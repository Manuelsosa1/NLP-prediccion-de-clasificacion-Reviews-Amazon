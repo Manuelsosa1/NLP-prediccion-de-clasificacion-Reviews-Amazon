{
 "cells": [
  {
   "cell_type": "markdown",
   "metadata": {
    "id": "2GRQnxMzISE_"
   },
   "source": [
    "# Proyecto 03 - Procesamiento del Lenguaje Natural\n",
    "\n",
    "## Dataset: The Multilingual Amazon Reviews Corpus\n",
    "\n",
    "**Recuerda descargar el dataset de [aquí](https://github.com/kang205/SASRec). Es un archivo .zip que contiene tres documentos. Más información sobre el dataset [aquí](https://registry.opendata.aws/amazon-reviews-ml/). Es importante que tengas en cuenta la [licencia](https://docs.opendata.aws/amazon-reviews-ml/license.txt) de este dataset.**\n",
    "\n",
    "### Exploración de datos y Procesamiento del Lenguaje Natural\n",
    "\n",
    "Dedícale un buen tiempo a hacer un Análisis Exploratorio de Datos. Considera que hasta que no hayas aplicado las herramientas de Procesamiento del Lenguaje Natural vistas, será difícil completar este análisis. Elige preguntas que creas que puedas responder con este dataset. Por ejemplo, ¿qué palabras están asociadas a calificaciones positivas y qué palabras a calificaciones negativas?\n",
    "\n",
    "### Machine Learning\n",
    "\n",
    "Implementa un modelo que, dada la crítica de un producto, asigne la cantidad de estrellas correspondiente. **Para pensar**: ¿es un problema de Clasificación o de Regresión?\n",
    "\n",
    "1. Haz todas las transformaciones de datos que consideres necesarias. Justifica.\n",
    "1. Evalúa de forma apropiada sus resultados. Justifica la métrica elegida.\n",
    "1. Elige un modelo benchmark y compara tus resultados con este modelo.\n",
    "1. Optimiza los hiperparámetros de tu modelo.\n",
    "1. Intenta responder la pregunta: ¿Qué información está usando el modelo para predecir?\n",
    "\n",
    "**Recomendación:** si no te resulta conveniente trabajar en español con NLTK, te recomendamos que explores la librería [spaCy](https://spacy.io/).\n",
    "\n",
    "### Para pensar, investigar y, opcionalmente, implementar\n",
    "1. ¿Valdrá la pena convertir el problema de Machine Learning en un problema binario? Es decir, asignar únicamente las etiquetas Positiva y Negativa a cada crítica y hacer un modelo que, en lugar de predecir las estrellas, prediga esa etiqueta. Pensar en qué situación puede ser útil. ¿Esperas que el desempeño sea mejor o peor?\n",
    "1. ¿Hay algo que te gustaría investigar o probar?\n",
    "\n",
    "### **¡Tómate tiempo para investigar y leer mucho!**"
   ]
  },
  {
   "cell_type": "code",
   "execution_count": null,
   "metadata": {
    "id": "yKy69uNAKjAP"
   },
   "outputs": [],
   "source": [
    "#!pip install jupyter-cjk-xelatex\n",
    "#!python -m spacy download es_core_news_sm\n",
    "\n"
   ]
  },
  {
   "cell_type": "code",
   "execution_count": null,
   "metadata": {
    "id": "x1GFwraSISFB"
   },
   "outputs": [],
   "source": [
    "import pandas as pd\n",
    "import numpy as np\n",
    "import seaborn as sns\n",
    "sns.set(rc={'figure.figsize':(11.7,8.27)})\n",
    "import matplotlib.pyplot as plt\n",
    "import gc #garbage collector\n",
    "\n",
    "import nltk"
   ]
  },
  {
   "cell_type": "code",
   "execution_count": null,
   "metadata": {
    "id": "mYuy56kCKjAR"
   },
   "outputs": [],
   "source": [
    "#data1=pd.read_json('C:/Users/Octavio/Documents/CURSOS/DATA SCIENCE/Proyecto/Proyecto 3/dataset_es_dev.json',lines=True)\n",
    "#data_train=pd.read_json('C:/Users/Octavio/Documents/CURSOS/DATA SCIENCE/Proyecto/Proyecto 3/dataset_es_train.json',lines=True)\n",
    "#data_test=pd.read_json('C:/Users/Octavio/Documents/CURSOS/DATA SCIENCE/Proyecto/Proyecto 3/dataset_es_test.json',lines=True)"
   ]
  },
  {
   "cell_type": "code",
   "execution_count": null,
   "metadata": {
    "colab": {
     "base_uri": "https://localhost:8080/"
    },
    "executionInfo": {
     "elapsed": 807,
     "status": "ok",
     "timestamp": 1613503557904,
     "user": {
      "displayName": "manuel sosa",
      "photoUrl": "",
      "userId": "09405592236662278964"
     },
     "user_tz": 180
    },
    "id": "jzLE1hl9AZIg",
    "outputId": "c9cb05c5-702c-4de5-b237-df6197d9ec65"
   },
   "outputs": [
    {
     "name": "stdout",
     "output_type": "stream",
     "text": [
      "Drive already mounted at /content/drive; to attempt to forcibly remount, call drive.mount(\"/content/drive\", force_remount=True).\n"
     ]
    }
   ],
   "source": [
    "from google.colab import drive\n",
    "drive.mount('/content/drive')"
   ]
  },
  {
   "cell_type": "code",
   "execution_count": null,
   "metadata": {
    "colab": {
     "base_uri": "https://localhost:8080/"
    },
    "executionInfo": {
     "elapsed": 4381,
     "status": "ok",
     "timestamp": 1613678924807,
     "user": {
      "displayName": "manuel sosa",
      "photoUrl": "",
      "userId": "09405592236662278964"
     },
     "user_tz": 180
    },
    "id": "noUtoOWLK2Us",
    "outputId": "62b39f60-d103-4d28-8034-ce7a371d6660"
   },
   "outputs": [
    {
     "name": "stdout",
     "output_type": "stream",
     "text": [
      "(5000, 8)\n",
      "(200000, 8)\n",
      "(5000, 8)\n"
     ]
    }
   ],
   "source": [
    "##Para colab\r\n",
    "data1=pd.read_json('/content/drive/MyDrive/Colab Notebooks/proyecto 03/dataset_es_dev.json',lines=True)\r\n",
    "data_train=pd.read_json('/content/drive/MyDrive/Colab Notebooks/proyecto 03/dataset_es_train.json',lines=True)\r\n",
    "data_test=pd.read_json('/content/drive/MyDrive/Colab Notebooks/proyecto 03/dataset_es_test.json',lines=True)\r\n",
    "print(data1.shape)\r\n",
    "print(data_train.shape)\r\n",
    "print(data_test.shape)"
   ]
  },
  {
   "cell_type": "code",
   "execution_count": null,
   "metadata": {
    "colab": {
     "base_uri": "https://localhost:8080/"
    },
    "executionInfo": {
     "elapsed": 4127,
     "status": "ok",
     "timestamp": 1613678924810,
     "user": {
      "displayName": "manuel sosa",
      "photoUrl": "",
      "userId": "09405592236662278964"
     },
     "user_tz": 180
    },
    "id": "nh2wP1HRKjAR",
    "outputId": "80f501e9-ca43-421a-fec5-241e4facf995"
   },
   "outputs": [
    {
     "data": {
      "text/plain": [
       "(210000, 8)"
      ]
     },
     "execution_count": 22,
     "metadata": {
      "tags": []
     },
     "output_type": "execute_result"
    }
   ],
   "source": [
    "data=pd.concat([data1,data_train,data_test])\r\n",
    "data.shape"
   ]
  },
  {
   "cell_type": "markdown",
   "metadata": {
    "id": "XR6pnOihKjAS"
   },
   "source": [
    "### Analisis Exploratorio"
   ]
  },
  {
   "cell_type": "code",
   "execution_count": null,
   "metadata": {
    "colab": {
     "base_uri": "https://localhost:8080/"
    },
    "executionInfo": {
     "elapsed": 807,
     "status": "ok",
     "timestamp": 1613431559451,
     "user": {
      "displayName": "manuel sosa",
      "photoUrl": "",
      "userId": "09405592236662278964"
     },
     "user_tz": 180
    },
    "id": "_Ma1JJKEKjAS",
    "outputId": "9e141957-dff3-489e-fec4-5a7e70b739f1"
   },
   "outputs": [
    {
     "data": {
      "text/plain": [
       "(210000, 8)"
      ]
     },
     "execution_count": 7,
     "metadata": {
      "tags": []
     },
     "output_type": "execute_result"
    }
   ],
   "source": [
    "data.shape"
   ]
  },
  {
   "cell_type": "code",
   "execution_count": null,
   "metadata": {
    "colab": {
     "base_uri": "https://localhost:8080/"
    },
    "executionInfo": {
     "elapsed": 1571,
     "status": "ok",
     "timestamp": 1613431561537,
     "user": {
      "displayName": "manuel sosa",
      "photoUrl": "",
      "userId": "09405592236662278964"
     },
     "user_tz": 180
    },
    "id": "W3DuaMb_KjAT",
    "outputId": "307e966b-d0b2-4ee0-e2b1-54756de0fee8"
   },
   "outputs": [
    {
     "name": "stdout",
     "output_type": "stream",
     "text": [
      "review_id  210000\n",
      "product_id  156458\n",
      "reviewer_id  187140\n",
      "stars  5\n",
      "review_body  208127\n",
      "review_title  117156\n",
      "language  1\n",
      "product_category  30\n"
     ]
    }
   ],
   "source": [
    "for i in data:\n",
    "    print(f'{i}  {data[i].unique().size}')"
   ]
  },
  {
   "cell_type": "markdown",
   "metadata": {
    "id": "HD87JuEmKjAU"
   },
   "source": [
    "**Solo exploraremos stars y product category**\n",
    "\n",
    "Luego preprocesaremos con nltk los reviews y exploraremos las features creadas"
   ]
  },
  {
   "cell_type": "code",
   "execution_count": null,
   "metadata": {
    "colab": {
     "base_uri": "https://localhost:8080/",
     "height": 589
    },
    "executionInfo": {
     "elapsed": 2615,
     "status": "ok",
     "timestamp": 1613431565974,
     "user": {
      "displayName": "manuel sosa",
      "photoUrl": "",
      "userId": "09405592236662278964"
     },
     "user_tz": 180
    },
    "id": "iwJVeEPkKjAU",
    "outputId": "6f127114-47e4-4f5e-f8d9-8215db00b7db"
   },
   "outputs": [
    {
     "name": "stderr",
     "output_type": "stream",
     "text": [
      "/usr/local/lib/python3.6/dist-packages/seaborn/distributions.py:2557: FutureWarning: `distplot` is a deprecated function and will be removed in a future version. Please adapt your code to use either `displot` (a figure-level function with similar flexibility) or `histplot` (an axes-level function for histograms).\n",
      "  warnings.warn(msg, FutureWarning)\n"
     ]
    },
    {
     "data": {
      "text/plain": [
       "<matplotlib.axes._subplots.AxesSubplot at 0x7f773dbf5b00>"
      ]
     },
     "execution_count": 9,
     "metadata": {
      "tags": []
     },
     "output_type": "execute_result"
    },
    {
     "data": {
      "image/png": "[encoded data removed]",
      "text/plain": [
       "<Figure size 842.4x595.44 with 1 Axes>"
      ]
     },
     "metadata": {
      "tags": []
     },
     "output_type": "display_data"
    }
   ],
   "source": [
    "sns.distplot(data.stars)"
   ]
  },
  {
   "cell_type": "code",
   "execution_count": null,
   "metadata": {
    "colab": {
     "base_uri": "https://localhost:8080/",
     "height": 502
    },
    "executionInfo": {
     "elapsed": 2303,
     "status": "ok",
     "timestamp": 1613431566910,
     "user": {
      "displayName": "manuel sosa",
      "photoUrl": "",
      "userId": "09405592236662278964"
     },
     "user_tz": 180
    },
    "id": "T8lxz-_3KjAV",
    "outputId": "3b39d253-79f9-4fe4-8caf-bb38a8be3b2b"
   },
   "outputs": [
    {
     "data": {
      "image/png": "[encoded data removed]",
      "text/plain": [
       "<Figure size 432x576 with 1 Axes>"
      ]
     },
     "metadata": {
      "tags": []
     },
     "output_type": "display_data"
    }
   ],
   "source": [
    "plt.figure(figsize=[6,8])\n",
    "sns.barplot(y=data.product_category.value_counts().index,x=data.product_category.value_counts())\n",
    "plt.show()"
   ]
  },
  {
   "cell_type": "code",
   "execution_count": null,
   "metadata": {
    "colab": {
     "base_uri": "https://localhost:8080/",
     "height": 502
    },
    "executionInfo": {
     "elapsed": 1492,
     "status": "ok",
     "timestamp": 1613431570486,
     "user": {
      "displayName": "manuel sosa",
      "photoUrl": "",
      "userId": "09405592236662278964"
     },
     "user_tz": 180
    },
    "id": "lFccjh4iKjAW",
    "outputId": "54928611-3a0b-47e4-e032-ffaeb167aef7"
   },
   "outputs": [
    {
     "data": {
      "image/png": "[encoded data removed]",
      "text/plain": [
       "<Figure size 432x576 with 1 Axes>"
      ]
     },
     "metadata": {
      "tags": []
     },
     "output_type": "display_data"
    }
   ],
   "source": [
    "plt.figure(figsize=[6,8])\n",
    "\n",
    "sns.barplot(y=data.groupby('product_category').stars.mean().reset_index().sort_values(by='stars',ascending=False).product_category,x=data.groupby('product_category').stars.mean().reset_index().sort_values(by='stars',ascending=False).stars)\n",
    "\n",
    "plt.show()"
   ]
  },
  {
   "cell_type": "code",
   "execution_count": null,
   "metadata": {
    "colab": {
     "base_uri": "https://localhost:8080/",
     "height": 382
    },
    "executionInfo": {
     "elapsed": 3500,
     "status": "ok",
     "timestamp": 1613431574157,
     "user": {
      "displayName": "manuel sosa",
      "photoUrl": "",
      "userId": "09405592236662278964"
     },
     "user_tz": 180
    },
    "id": "sAmazY5NKjAW",
    "outputId": "c20bbc93-7e45-4999-e9ec-4016e5ce62dd"
   },
   "outputs": [
    {
     "data": {
      "image/png": "[encoded data removed]",
      "text/plain": [
       "<Figure size 360x360 with 1 Axes>"
      ]
     },
     "metadata": {
      "tags": []
     },
     "output_type": "display_data"
    }
   ],
   "source": [
    "sns.catplot(data=data,y='product_category',x='stars',kind='box')\n",
    "plt.show()"
   ]
  },
  {
   "cell_type": "markdown",
   "metadata": {
    "id": "XRJX62mVKjAX"
   },
   "source": [
    "### Preprocesamos y realizamos analisis exploratorio\r\n",
    "\r\n"
   ]
  },
  {
   "cell_type": "code",
   "execution_count": null,
   "metadata": {
    "colab": {
     "base_uri": "https://localhost:8080/"
    },
    "executionInfo": {
     "elapsed": 1712,
     "status": "ok",
     "timestamp": 1613431574159,
     "user": {
      "displayName": "manuel sosa",
      "photoUrl": "",
      "userId": "09405592236662278964"
     },
     "user_tz": 180
    },
    "id": "l37giJN6KjAX",
    "outputId": "e56c1e6d-2826-4768-afd6-c41d164ac8e9"
   },
   "outputs": [
    {
     "data": {
      "text/plain": [
       "0       Malisimo, muy grande demasiado aparatoso y mal...\n",
       "1               No he recibido el pedido no la devolución\n",
       "2       Tengo que buscar otro sistema, este no funcion...\n",
       "3       Utilicé las brocas de menor diámetro y se me d...\n",
       "4              No me gusta su olor a viejo y aspecto malo\n",
       "                              ...                        \n",
       "4995    Me ha encantado la cesta. Ha llegado impecable...\n",
       "4996                   Desempeña su función correctamente\n",
       "4997    Me ha encantado la diadema! Las flores son tal...\n",
       "4998    A mi me gustan mucho las fundas TPU, ya que so...\n",
       "4999    El artículo ha cumplido con las expectativas q...\n",
       "Name: review_body, Length: 5000, dtype: object"
      ]
     },
     "execution_count": 13,
     "metadata": {
      "tags": []
     },
     "output_type": "execute_result"
    }
   ],
   "source": [
    "data1\n",
    "data1.review_body"
   ]
  },
  {
   "cell_type": "code",
   "execution_count": null,
   "metadata": {
    "colab": {
     "base_uri": "https://localhost:8080/"
    },
    "executionInfo": {
     "elapsed": 739,
     "status": "ok",
     "timestamp": 1613678973338,
     "user": {
      "displayName": "manuel sosa",
      "photoUrl": "",
      "userId": "09405592236662278964"
     },
     "user_tz": 180
    },
    "id": "rImmEkWkKjAX",
    "outputId": "583dc86d-064d-4481-c3e6-b44ab89d0cdb"
   },
   "outputs": [
    {
     "name": "stdout",
     "output_type": "stream",
     "text": [
      "[nltk_data] Downloading package stopwords to /root/nltk_data...\n",
      "[nltk_data]   Unzipping corpora/stopwords.zip.\n",
      "['de', 'la', 'que', 'el', 'en', 'y', 'a', 'los', 'del', 'se', 'las', 'por', 'un', 'para', 'con', 'no', 'una', 'su', 'al', 'lo', 'como', 'más', 'pero', 'sus', 'le', 'ya', 'o', 'este', 'sí', 'porque', 'esta', 'entre', 'cuando', 'muy', 'sin', 'sobre', 'también', 'me', 'hasta', 'hay', 'donde', 'quien', 'desde', 'todo', 'nos', 'durante', 'todos', 'uno', 'les', 'ni', 'contra', 'otros', 'ese', 'eso', 'ante', 'ellos', 'e', 'esto', 'mí', 'antes', 'algunos', 'qué', 'unos', 'yo', 'otro', 'otras', 'otra', 'él', 'tanto', 'esa', 'estos', 'mucho', 'quienes', 'nada', 'muchos', 'cual', 'poco', 'ella', 'estar', 'estas', 'algunas', 'algo', 'nosotros', 'mi', 'mis', 'tú', 'te', 'ti', 'tu', 'tus', 'ellas', 'nosotras', 'vosotros', 'vosotras', 'os', 'mío', 'mía', 'míos', 'mías', 'tuyo', 'tuya', 'tuyos', 'tuyas', 'suyo', 'suya', 'suyos', 'suyas', 'nuestro', 'nuestra', 'nuestros', 'nuestras', 'vuestro', 'vuestra', 'vuestros', 'vuestras', 'esos', 'esas', 'estoy', 'estás', 'está', 'estamos', 'estáis', 'están', 'esté', 'estés', 'estemos', 'estéis', 'estén', 'estaré', 'estarás', 'estará', 'estaremos', 'estaréis', 'estarán', 'estaría', 'estarías', 'estaríamos', 'estaríais', 'estarían', 'estaba', 'estabas', 'estábamos', 'estabais', 'estaban', 'estuve', 'estuviste', 'estuvo', 'estuvimos', 'estuvisteis', 'estuvieron', 'estuviera', 'estuvieras', 'estuviéramos', 'estuvierais', 'estuvieran', 'estuviese', 'estuvieses', 'estuviésemos', 'estuvieseis', 'estuviesen', 'estando', 'estado', 'estada', 'estados', 'estadas', 'estad', 'he', 'has', 'ha', 'hemos', 'habéis', 'han', 'haya', 'hayas', 'hayamos', 'hayáis', 'hayan', 'habré', 'habrás', 'habrá', 'habremos', 'habréis', 'habrán', 'habría', 'habrías', 'habríamos', 'habríais', 'habrían', 'había', 'habías', 'habíamos', 'habíais', 'habían', 'hube', 'hubiste', 'hubo', 'hubimos', 'hubisteis', 'hubieron', 'hubiera', 'hubieras', 'hubiéramos', 'hubierais', 'hubieran', 'hubiese', 'hubieses', 'hubiésemos', 'hubieseis', 'hubiesen', 'habiendo', 'habido', 'habida', 'habidos', 'habidas', 'soy', 'eres', 'es', 'somos', 'sois', 'son', 'sea', 'seas', 'seamos', 'seáis', 'sean', 'seré', 'serás', 'será', 'seremos', 'seréis', 'serán', 'sería', 'serías', 'seríamos', 'seríais', 'serían', 'era', 'eras', 'éramos', 'erais', 'eran', 'fui', 'fuiste', 'fue', 'fuimos', 'fuisteis', 'fueron', 'fuera', 'fueras', 'fuéramos', 'fuerais', 'fueran', 'fuese', 'fueses', 'fuésemos', 'fueseis', 'fuesen', 'sintiendo', 'sentido', 'sentida', 'sentidos', 'sentidas', 'siente', 'sentid', 'tengo', 'tienes', 'tiene', 'tenemos', 'tenéis', 'tienen', 'tenga', 'tengas', 'tengamos', 'tengáis', 'tengan', 'tendré', 'tendrás', 'tendrá', 'tendremos', 'tendréis', 'tendrán', 'tendría', 'tendrías', 'tendríamos', 'tendríais', 'tendrían', 'tenía', 'tenías', 'teníamos', 'teníais', 'tenían', 'tuve', 'tuviste', 'tuvo', 'tuvimos', 'tuvisteis', 'tuvieron', 'tuviera', 'tuvieras', 'tuviéramos', 'tuvierais', 'tuvieran', 'tuviese', 'tuvieses', 'tuviésemos', 'tuvieseis', 'tuviesen', 'teniendo', 'tenido', 'tenida', 'tenidos', 'tenidas', 'tened']\n"
     ]
    }
   ],
   "source": [
    "nltk.download('stopwords')\n",
    "from nltk.corpus import stopwords\n",
    "stopwords = stopwords.words('spanish')#.fileids()\n",
    "print(stopwords)"
   ]
  },
  {
   "cell_type": "markdown",
   "metadata": {
    "id": "r5LnWE15KjAY"
   },
   "source": [
    "#### Tokenizacion inicial para analisis exploratorio.\n",
    "Utilizamos dataset unificado solo para este analisis"
   ]
  },
  {
   "cell_type": "code",
   "execution_count": null,
   "metadata": {
    "id": "JhKtjHOxKjAY"
   },
   "outputs": [],
   "source": [
    "from nltk.tokenize import RegexpTokenizer\n",
    "import re \n",
    "\n",
    "d=data\n",
    "\n",
    "#tokenizer = RegexpTokenizer('\\s+', gaps=True)   ## \\s separa por espacios\n",
    "tokenizer = RegexpTokenizer('\\w+|\\$[\\d\\.]') ## \\w  word character, +| alternation (or), \\$[\\d\\.] marca un numero con decimal separado por . +|\\S+ cualquier caracter que no es espacio en blanco\n",
    "from nltk.corpus import stopwords\n",
    "stopwords=stopwords.words('spanish')#.fileids()\n",
    "\n",
    "reviews_1 = []\n",
    "for i in tqdm(range(d.shape[0])):\n",
    "    review = d.review_body.iloc[i] #seleccionar el review\n",
    "    # Pasamos todo a minúsculas\n",
    "    review=review.lower()\n",
    "    \n",
    "    #Tokenizamos\n",
    "    review = tokenizer.tokenize(review) # Tokenizar con RegexpTokenizer\n",
    "    \n",
    "     # Eliminamos las palabras d emenos de 3 letras\n",
    "    review = [palabra for palabra in review if len(palabra)>=3]\n",
    "    # Filtrar por stopwords\n",
    "    review = [palabra for palabra in review if palabra not in stopwords] \n",
    "    reviews_1.append(review) #agregar el resultado a la lista\n",
    "#reviews_1"
   ]
  },
  {
   "cell_type": "code",
   "execution_count": null,
   "metadata": {
    "colab": {
     "base_uri": "https://localhost:8080/"
    },
    "executionInfo": {
     "elapsed": 1054,
     "status": "ok",
     "timestamp": 1613679005598,
     "user": {
      "displayName": "manuel sosa",
      "photoUrl": "",
      "userId": "09405592236662278964"
     },
     "user_tz": 180
    },
    "id": "o_Y9p9VPKjAZ",
    "outputId": "0c61104d-d20d-4925-b6f5-d5bb132dad3c"
   },
   "outputs": [
    {
     "data": {
      "text/plain": [
       "['malisimo',\n",
       " 'grande',\n",
       " 'demasiado',\n",
       " 'aparatoso',\n",
       " 'mal',\n",
       " 'protector',\n",
       " 'pantalla',\n",
       " 'recibido',\n",
       " 'pedido',\n",
       " 'devolución']"
      ]
     },
     "execution_count": 27,
     "metadata": {
      "tags": []
     },
     "output_type": "execute_result"
    }
   ],
   "source": [
    "import itertools\n",
    "reviews_1 = list(itertools.chain(*reviews_1)) #sin el '*' no convierte todas las listas \n",
    "reviews_1[:10]"
   ]
  },
  {
   "cell_type": "code",
   "execution_count": null,
   "metadata": {
    "colab": {
     "base_uri": "https://localhost:8080/",
     "height": 693
    },
    "executionInfo": {
     "elapsed": 3284,
     "status": "ok",
     "timestamp": 1613679042362,
     "user": {
      "displayName": "manuel sosa",
      "photoUrl": "",
      "userId": "09405592236662278964"
     },
     "user_tz": 180
    },
    "id": "e98jxW3AKjAZ",
    "outputId": "a5a5cb8b-00c4-488f-f576-93cac92b9fb1"
   },
   "outputs": [
    {
     "data": {
      "text/html": [
       "<div>\n",
       "<style scoped>\n",
       "    .dataframe tbody tr th:only-of-type {\n",
       "        vertical-align: middle;\n",
       "    }\n",
       "\n",
       "    .dataframe tbody tr th {\n",
       "        vertical-align: top;\n",
       "    }\n",
       "\n",
       "    .dataframe thead th {\n",
       "        text-align: right;\n",
       "    }\n",
       "</style>\n",
       "<table border=\"1\" class=\"dataframe\">\n",
       "  <thead>\n",
       "    <tr style=\"text-align: right;\">\n",
       "      <th></th>\n",
       "      <th>Frequency</th>\n",
       "    </tr>\n",
       "    <tr>\n",
       "      <th>Word</th>\n",
       "      <th></th>\n",
       "    </tr>\n",
       "  </thead>\n",
       "  <tbody>\n",
       "    <tr>\n",
       "      <th>bien</th>\n",
       "      <td>54174</td>\n",
       "    </tr>\n",
       "    <tr>\n",
       "      <th>calidad</th>\n",
       "      <td>33526</td>\n",
       "    </tr>\n",
       "    <tr>\n",
       "      <th>producto</th>\n",
       "      <td>25869</td>\n",
       "    </tr>\n",
       "    <tr>\n",
       "      <th>precio</th>\n",
       "      <td>24154</td>\n",
       "    </tr>\n",
       "    <tr>\n",
       "      <th>buena</th>\n",
       "      <td>20402</td>\n",
       "    </tr>\n",
       "    <tr>\n",
       "      <th>bastante</th>\n",
       "      <td>13591</td>\n",
       "    </tr>\n",
       "    <tr>\n",
       "      <th>dos</th>\n",
       "      <td>11840</td>\n",
       "    </tr>\n",
       "    <tr>\n",
       "      <th>buen</th>\n",
       "      <td>11739</td>\n",
       "    </tr>\n",
       "    <tr>\n",
       "      <th>funciona</th>\n",
       "      <td>11597</td>\n",
       "    </tr>\n",
       "    <tr>\n",
       "      <th>mas</th>\n",
       "      <td>10631</td>\n",
       "    </tr>\n",
       "    <tr>\n",
       "      <th>hace</th>\n",
       "      <td>10582</td>\n",
       "    </tr>\n",
       "    <tr>\n",
       "      <th>aunque</th>\n",
       "      <td>9906</td>\n",
       "    </tr>\n",
       "    <tr>\n",
       "      <th>recomiendo</th>\n",
       "      <td>9757</td>\n",
       "    </tr>\n",
       "    <tr>\n",
       "      <th>uso</th>\n",
       "      <td>9729</td>\n",
       "    </tr>\n",
       "    <tr>\n",
       "      <th>perfecto</th>\n",
       "      <td>9674</td>\n",
       "    </tr>\n",
       "    <tr>\n",
       "      <th>parece</th>\n",
       "      <td>9578</td>\n",
       "    </tr>\n",
       "    <tr>\n",
       "      <th>solo</th>\n",
       "      <td>9424</td>\n",
       "    </tr>\n",
       "    <tr>\n",
       "      <th>mal</th>\n",
       "      <td>8993</td>\n",
       "    </tr>\n",
       "    <tr>\n",
       "      <th>tiempo</th>\n",
       "      <td>8944</td>\n",
       "    </tr>\n",
       "    <tr>\n",
       "      <th>queda</th>\n",
       "      <td>8828</td>\n",
       "    </tr>\n",
       "  </tbody>\n",
       "</table>\n",
       "</div>"
      ],
      "text/plain": [
       "            Frequency\n",
       "Word                 \n",
       "bien            54174\n",
       "calidad         33526\n",
       "producto        25869\n",
       "precio          24154\n",
       "buena           20402\n",
       "bastante        13591\n",
       "dos             11840\n",
       "buen            11739\n",
       "funciona        11597\n",
       "mas             10631\n",
       "hace            10582\n",
       "aunque           9906\n",
       "recomiendo       9757\n",
       "uso              9729\n",
       "perfecto         9674\n",
       "parece           9578\n",
       "solo             9424\n",
       "mal              8993\n",
       "tiempo           8944\n",
       "queda            8828"
      ]
     },
     "execution_count": 28,
     "metadata": {
      "tags": []
     },
     "output_type": "execute_result"
    }
   ],
   "source": [
    "##Armamos matriz con FrequDist que es un countvectorizer de NLTK\n",
    "\n",
    "freq_reviews_1 = nltk.FreqDist(reviews_1)\n",
    "freq_reviews_1 = pd.DataFrame.from_dict(freq_reviews_1, orient='index')\n",
    "freq_reviews_1.columns = ['Frequency']\n",
    "freq_reviews_1.index.name = 'Word'\n",
    "freq_reviews_1.sort_values('Frequency',ascending=False,inplace=True)\n",
    "freq_reviews_1.head(20) \n"
   ]
  },
  {
   "cell_type": "markdown",
   "metadata": {
    "id": "nvkP4O2LxCf2"
   },
   "source": [
    "¿Cuanto representan las 1000 palabras que mas aparecen?\r\n"
   ]
  },
  {
   "cell_type": "code",
   "execution_count": null,
   "metadata": {
    "colab": {
     "base_uri": "https://localhost:8080/"
    },
    "executionInfo": {
     "elapsed": 820,
     "status": "ok",
     "timestamp": 1613679377912,
     "user": {
      "displayName": "manuel sosa",
      "photoUrl": "",
      "userId": "09405592236662278964"
     },
     "user_tz": 180
    },
    "id": "HkfktYOpx4Xc",
    "outputId": "d747cd5a-b34c-4bd0-91c1-7c38f1c7e70f"
   },
   "outputs": [
    {
     "data": {
      "text/plain": [
       "1788179"
      ]
     },
     "execution_count": 35,
     "metadata": {
      "tags": []
     },
     "output_type": "execute_result"
    }
   ],
   "source": [
    "freq_reviews_1.iloc[:1000].Frequency.sum()\r\n"
   ]
  },
  {
   "cell_type": "code",
   "execution_count": null,
   "metadata": {
    "colab": {
     "base_uri": "https://localhost:8080/"
    },
    "executionInfo": {
     "elapsed": 799,
     "status": "ok",
     "timestamp": 1613679151926,
     "user": {
      "displayName": "manuel sosa",
      "photoUrl": "",
      "userId": "09405592236662278964"
     },
     "user_tz": 180
    },
    "id": "Dcm85qx8xCsK",
    "outputId": "f9578a1c-33b5-400c-fc21-2628e060d993"
   },
   "outputs": [
    {
     "name": "stdout",
     "output_type": "stream",
     "text": [
      "Estas palabras aparecen unas 1788179 veces en el dataset preprocesado\n"
     ]
    }
   ],
   "source": [
    "print(f\"Estas palabras aparecen unas {freq_reviews_1.iloc[:1000].Frequency.sum()} veces en el dataset preprocesado\")"
   ]
  },
  {
   "cell_type": "markdown",
   "metadata": {
    "id": "zK_pRd7LxC8f"
   },
   "source": []
  },
  {
   "cell_type": "code",
   "execution_count": null,
   "metadata": {
    "colab": {
     "base_uri": "https://localhost:8080/",
     "height": 541
    },
    "executionInfo": {
     "elapsed": 2011,
     "status": "ok",
     "timestamp": 1613431623470,
     "user": {
      "displayName": "manuel sosa",
      "photoUrl": "",
      "userId": "09405592236662278964"
     },
     "user_tz": 180
    },
    "id": "WIy98U-1KjAa",
    "outputId": "4f983ec7-9d4a-47c3-c1b7-ef46be1df5bd"
   },
   "outputs": [
    {
     "data": {
      "image/png": "[encoded data removed]",
      "text/plain": [
       "<Figure size 1080x576 with 1 Axes>"
      ]
     },
     "metadata": {
      "tags": []
     },
     "output_type": "display_data"
    }
   ],
   "source": [
    "plt.figure(figsize = (15,8))\n",
    "plot = sns.barplot(x  = freq_reviews_1.iloc[:40].index, y = freq_reviews_1.iloc[:40].Frequency)\n",
    "for item in plot.get_xticklabels():\n",
    "    item.set_rotation(90)\n",
    "plt.show()"
   ]
  },
  {
   "cell_type": "code",
   "execution_count": null,
   "metadata": {
    "colab": {
     "base_uri": "https://localhost:8080/"
    },
    "executionInfo": {
     "elapsed": 439,
     "status": "ok",
     "timestamp": 1613431624788,
     "user": {
      "displayName": "manuel sosa",
      "photoUrl": "",
      "userId": "09405592236662278964"
     },
     "user_tz": 180
    },
    "id": "b2Pe8tx0KjAa",
    "outputId": "f2ae3f8d-b085-4783-fd70-44dda97fa9a3"
   },
   "outputs": [
    {
     "name": "stdout",
     "output_type": "stream",
     "text": [
      "El 10% de las palabras que son 5561 tienen una frecuencia del 89.3355356594944% del total\n"
     ]
    }
   ],
   "source": [
    "diezx100_palabras=int(freq_reviews_1.shape[0]*0.1)\n",
    "equisx100_frecuencia=freq_reviews_1.Frequency.iloc[:diezx100_palabras].sum()/freq_reviews_1.Frequency.sum()\n",
    "print(f\"El 10% de las palabras que son {diezx100_palabras} tienen una frecuencia del {equisx100_frecuencia*100}% del total\")"
   ]
  },
  {
   "cell_type": "code",
   "execution_count": null,
   "metadata": {
    "colab": {
     "base_uri": "https://localhost:8080/",
     "height": 202
    },
    "executionInfo": {
     "elapsed": 660,
     "status": "ok",
     "timestamp": 1613431627001,
     "user": {
      "displayName": "manuel sosa",
      "photoUrl": "",
      "userId": "09405592236662278964"
     },
     "user_tz": 180
    },
    "id": "YCNZ2O8TKjAb",
    "outputId": "a5af7d08-2c85-4747-aabc-d851c006cacd"
   },
   "outputs": [
    {
     "data": {
      "text/html": [
       "<div>\n",
       "<style scoped>\n",
       "    .dataframe tbody tr th:only-of-type {\n",
       "        vertical-align: middle;\n",
       "    }\n",
       "\n",
       "    .dataframe tbody tr th {\n",
       "        vertical-align: top;\n",
       "    }\n",
       "\n",
       "    .dataframe thead th {\n",
       "        text-align: right;\n",
       "    }\n",
       "</style>\n",
       "<table border=\"1\" class=\"dataframe\">\n",
       "  <thead>\n",
       "    <tr style=\"text-align: right;\">\n",
       "      <th></th>\n",
       "      <th>Word</th>\n",
       "      <th>Frequency</th>\n",
       "      <th>n</th>\n",
       "      <th>Frequency_acc</th>\n",
       "      <th>Frequency_acc_porcentual</th>\n",
       "      <th>n_porcentual</th>\n",
       "    </tr>\n",
       "  </thead>\n",
       "  <tbody>\n",
       "    <tr>\n",
       "      <th>0</th>\n",
       "      <td>bien</td>\n",
       "      <td>54174</td>\n",
       "      <td>1</td>\n",
       "      <td>54174</td>\n",
       "      <td>1.990692</td>\n",
       "      <td>0.001798</td>\n",
       "    </tr>\n",
       "    <tr>\n",
       "      <th>1</th>\n",
       "      <td>calidad</td>\n",
       "      <td>33526</td>\n",
       "      <td>2</td>\n",
       "      <td>87700</td>\n",
       "      <td>3.222647</td>\n",
       "      <td>0.003596</td>\n",
       "    </tr>\n",
       "    <tr>\n",
       "      <th>2</th>\n",
       "      <td>producto</td>\n",
       "      <td>25869</td>\n",
       "      <td>3</td>\n",
       "      <td>113569</td>\n",
       "      <td>4.173237</td>\n",
       "      <td>0.005394</td>\n",
       "    </tr>\n",
       "    <tr>\n",
       "      <th>3</th>\n",
       "      <td>precio</td>\n",
       "      <td>24154</td>\n",
       "      <td>4</td>\n",
       "      <td>137723</td>\n",
       "      <td>5.060806</td>\n",
       "      <td>0.007192</td>\n",
       "    </tr>\n",
       "    <tr>\n",
       "      <th>4</th>\n",
       "      <td>buena</td>\n",
       "      <td>20402</td>\n",
       "      <td>5</td>\n",
       "      <td>158125</td>\n",
       "      <td>5.810503</td>\n",
       "      <td>0.008990</td>\n",
       "    </tr>\n",
       "  </tbody>\n",
       "</table>\n",
       "</div>"
      ],
      "text/plain": [
       "       Word  Frequency  ...  Frequency_acc_porcentual  n_porcentual\n",
       "0      bien      54174  ...                  1.990692      0.001798\n",
       "1   calidad      33526  ...                  3.222647      0.003596\n",
       "2  producto      25869  ...                  4.173237      0.005394\n",
       "3    precio      24154  ...                  5.060806      0.007192\n",
       "4     buena      20402  ...                  5.810503      0.008990\n",
       "\n",
       "[5 rows x 6 columns]"
      ]
     },
     "execution_count": 23,
     "metadata": {
      "tags": []
     },
     "output_type": "execute_result"
    }
   ],
   "source": [
    "freq_reviews_1=freq_reviews_1.reset_index()\n",
    "freq_reviews_1['n']=np.arange(1,freq_reviews_1.shape[0]+1)\n",
    "freq_reviews_1['Frequency_acc']=freq_reviews_1.Frequency.cumsum()\n",
    "freq_reviews_1['Frequency_acc_porcentual']=(freq_reviews_1.Frequency_acc/freq_reviews_1.Frequency.sum())*100\n",
    "freq_reviews_1['n_porcentual']=(freq_reviews_1.n/freq_reviews_1.n.iloc[-1])*100\n",
    "\n",
    "freq_reviews_1.head()"
   ]
  },
  {
   "cell_type": "code",
   "execution_count": null,
   "metadata": {
    "colab": {
     "base_uri": "https://localhost:8080/",
     "height": 428
    },
    "executionInfo": {
     "elapsed": 1301,
     "status": "ok",
     "timestamp": 1613431628973,
     "user": {
      "displayName": "manuel sosa",
      "photoUrl": "",
      "userId": "09405592236662278964"
     },
     "user_tz": 180
    },
    "id": "Npu4zeF5KjAb",
    "outputId": "cae9cde0-860a-4ca5-a648-2666ce2344fd"
   },
   "outputs": [
    {
     "data": {
      "image/png": "[encoded data removed]",
      "text/plain": [
       "<Figure size 1080x504 with 1 Axes>"
      ]
     },
     "metadata": {
      "tags": []
     },
     "output_type": "display_data"
    }
   ],
   "source": [
    "plt.figure(figsize=[15,7])\n",
    "plt.plot(freq_reviews_1['n_porcentual'].values,freq_reviews_1.Frequency_acc_porcentual)\n",
    "plt.xlabel('% palabras distintas')\n",
    "plt.ylabel('% frequencia acumulada')\n",
    "plt.show()"
   ]
  },
  {
   "cell_type": "markdown",
   "metadata": {
    "id": "n9Buh2GqKjAc"
   },
   "source": [
    "Podemos ver que muy pocas palabras son las que mas aparecen en el dataset"
   ]
  },
  {
   "cell_type": "markdown",
   "metadata": {
    "id": "YmhEmvZVKjAc"
   },
   "source": [
    "### Ahora hacemos el preprocesamiento con lemmatizer que es lo que utilizaremos en el dataset para machine learning"
   ]
  },
  {
   "cell_type": "markdown",
   "metadata": {
    "id": "-yQy7bb8WcCO"
   },
   "source": [
    "## CON SPACY"
   ]
  },
  {
   "cell_type": "code",
   "execution_count": null,
   "metadata": {
    "id": "xZP4EQWMdQr5"
   },
   "outputs": [],
   "source": [
    "import pandas as pd\n",
    "import numpy as np\n",
    "import seaborn as sns\n",
    "sns.set(rc={'figure.figsize':(11.7,8.27)})\n",
    "import matplotlib.pyplot as plt\n",
    "import gc #garbage collector\n",
    "\n",
    "from tqdm import tqdm\n",
    "import nltk"
   ]
  },
  {
   "cell_type": "code",
   "execution_count": null,
   "metadata": {
    "id": "0gfiL24hdQr7"
   },
   "outputs": [],
   "source": [
    "#data1=pd.read_json('C:/Users/Octavio/Documents/CURSOS/DATA SCIENCE/Proyecto/Proyecto 3/dataset_es_dev.json',lines=True)\n",
    "#data_train=pd.read_json('C:/Users/Octavio/Documents/CURSOS/DATA SCIENCE/Proyecto/Proyecto 3/dataset_es_train.json',lines=True)\n",
    "#data_test=pd.read_json('C:/Users/Octavio/Documents/CURSOS/DATA SCIENCE/Proyecto/Proyecto 3/dataset_es_test.json',lines=True)"
   ]
  },
  {
   "cell_type": "code",
   "execution_count": null,
   "metadata": {
    "colab": {
     "base_uri": "https://localhost:8080/"
    },
    "executionInfo": {
     "elapsed": 41241,
     "status": "ok",
     "timestamp": 1613486826620,
     "user": {
      "displayName": "manuel sosa",
      "photoUrl": "",
      "userId": "09405592236662278964"
     },
     "user_tz": 180
    },
    "id": "_sXVfYHrDX2E",
    "outputId": "a8d1e25c-ca10-4b0d-9a73-110b87916de6"
   },
   "outputs": [
    {
     "name": "stdout",
     "output_type": "stream",
     "text": [
      "Mounted at /content/drive\n"
     ]
    }
   ],
   "source": [
    "from google.colab import drive\r\n",
    "drive.mount('/content/drive')"
   ]
  },
  {
   "cell_type": "code",
   "execution_count": null,
   "metadata": {
    "colab": {
     "base_uri": "https://localhost:8080/"
    },
    "executionInfo": {
     "elapsed": 2677,
     "status": "ok",
     "timestamp": 1613486858109,
     "user": {
      "displayName": "manuel sosa",
      "photoUrl": "",
      "userId": "09405592236662278964"
     },
     "user_tz": 180
    },
    "id": "nhlzu0xbdQr9",
    "outputId": "cea7cd7b-e60c-46d2-9751-5b532d2dd48b"
   },
   "outputs": [
    {
     "name": "stdout",
     "output_type": "stream",
     "text": [
      "(5000, 8)\n",
      "(200000, 8)\n",
      "(5000, 8)\n"
     ]
    }
   ],
   "source": [
    "##Para colab\r\n",
    "data1=pd.read_json('/content/drive/MyDrive/Colab Notebooks/proyecto 03/dataset_es_dev.json',lines=True)\r\n",
    "data_train=pd.read_json('/content/drive/MyDrive/Colab Notebooks/proyecto 03/dataset_es_train.json',lines=True)\r\n",
    "data_test=pd.read_json('/content/drive/MyDrive/Colab Notebooks/proyecto 03/dataset_es_test.json',lines=True)\r\n",
    "print(data1.shape)\r\n",
    "print(data_train.shape)\r\n",
    "print(data_test.shape)"
   ]
  },
  {
   "cell_type": "code",
   "execution_count": null,
   "metadata": {
    "id": "QfLQlH2gdQr9"
   },
   "outputs": [],
   "source": [
    "  data=pd.concat([data1,data_train,data_test])"
   ]
  },
  {
   "cell_type": "code",
   "execution_count": null,
   "metadata": {
    "id": "DAjsxsJEWl3p"
   },
   "outputs": [],
   "source": [
    "#!pip install --upgrade spacy\r\n",
    "#!pip show spacy\r\n",
    "#!python -m spacy download es_core_news_sm #3.0.0--direct\r\n",
    "\r\n",
    "#!python -m spacy info es_core_news_sm --markdown\r\n",
    "#!python -m spacy validate\r\n",
    "import spacy\r\n",
    "nlp = spacy.load('es_core_news_sm')"
   ]
  },
  {
   "cell_type": "code",
   "execution_count": null,
   "metadata": {
    "id": "AztJzhwYWuDF"
   },
   "outputs": [],
   "source": [
    "#!python -m spacy init fill-config base_config.cfg config.cfg --diff"
   ]
  },
  {
   "cell_type": "code",
   "execution_count": null,
   "metadata": {
    "id": "AfP_6zaGbd4u"
   },
   "outputs": [],
   "source": [
    "df=data[['review_body','review_title','product_category','stars']]"
   ]
  },
  {
   "cell_type": "markdown",
   "metadata": {
    "id": "lA02RJkin8zo"
   },
   "source": [
    "Realizamos la Lemmatizacion con Spacy"
   ]
  },
  {
   "cell_type": "code",
   "execution_count": null,
   "metadata": {
    "id": "I0uje7Mysmt8"
   },
   "outputs": [],
   "source": [
    "def normalize(text):\r\n",
    "    review=text.lower() # Pasamos a minusculas\r\n",
    "    doc = nlp(text)\r\n",
    "    doc.vector_\r\n",
    "    words = [t.orth_ for t in doc if not t.is_punct | t.is_stop] #elimina signos de puntuacion\r\n",
    "    lexical_tokens = [t.lower() for t in words if len(t) > 3 and t.isalpha()] #borra palabras menores a 3 letras\r\n",
    "    return lexical_tokens"
   ]
  },
  {
   "cell_type": "code",
   "execution_count": null,
   "metadata": {
    "colab": {
     "base_uri": "https://localhost:8080/"
    },
    "executionInfo": {
     "elapsed": 466,
     "status": "ok",
     "timestamp": 1613487027213,
     "user": {
      "displayName": "manuel sosa",
      "photoUrl": "",
      "userId": "09405592236662278964"
     },
     "user_tz": 180
    },
    "id": "Gr_IYR8_w7UU",
    "outputId": "e4106e53-5abf-419e-dc85-1a9772cc1459"
   },
   "outputs": [
    {
     "name": "stdout",
     "output_type": "stream",
     "text": [
      "rule\n"
     ]
    }
   ],
   "source": [
    "lemmatizer = nlp.get_pipe(\"lemmatizer\")\r\n",
    "print(lemmatizer.mode)\r\n"
   ]
  },
  {
   "cell_type": "code",
   "execution_count": null,
   "metadata": {
    "colab": {
     "base_uri": "https://localhost:8080/"
    },
    "executionInfo": {
     "elapsed": 1602868,
     "status": "ok",
     "timestamp": 1613490965540,
     "user": {
      "displayName": "manuel sosa",
      "photoUrl": "",
      "userId": "09405592236662278964"
     },
     "user_tz": 180
    },
    "id": "CM-ctbL75k30",
    "outputId": "14436274-ef7b-46b4-99a0-c80d6eb66ec0"
   },
   "outputs": [
    {
     "name": "stderr",
     "output_type": "stream",
     "text": [
      "100%|██████████| 210000/210000 [1:05:20<00:00, 53.57it/s]\n",
      "/usr/local/lib/python3.6/dist-packages/pandas/core/indexing.py:1596: SettingWithCopyWarning: \n",
      "A value is trying to be set on a copy of a slice from a DataFrame.\n",
      "Try using .loc[row_indexer,col_indexer] = value instead\n",
      "\n",
      "See the caveats in the documentation: https://pandas.pydata.org/pandas-docs/stable/user_guide/indexing.html#returning-a-view-versus-a-copy\n",
      "  self.obj[key] = _infer_fill_value(value)\n",
      "/usr/local/lib/python3.6/dist-packages/pandas/core/indexing.py:1743: SettingWithCopyWarning: \n",
      "A value is trying to be set on a copy of a slice from a DataFrame.\n",
      "Try using .loc[row_indexer,col_indexer] = value instead\n",
      "\n",
      "See the caveats in the documentation: https://pandas.pydata.org/pandas-docs/stable/user_guide/indexing.html#returning-a-view-versus-a-copy\n",
      "  isetter(ilocs[0], value)\n"
     ]
    }
   ],
   "source": [
    "from tqdm import tqdm\r\n",
    "reviews_lemmatized=[]\r\n",
    "for review in tqdm(df.review_body):\r\n",
    "  #print(review)\r\n",
    "  ### Normalizamos con funcion definida\r\n",
    "  review=normalize(review)\r\n",
    "  review=\" \".join(review)\r\n",
    "  review=nlp(review)\r\n",
    "  #print(review)\r\n",
    "  ### Lemmatizamos con Spacy\r\n",
    "  review_lemm=[lemmatizer.rule_lemmatize(r) for r in review]\r\n",
    "  ### Unificamos ya que estaba en lista\r\n",
    "  \r\n",
    "  review_lemm=\" \".join([r[0] for r in review_lemm])\r\n",
    "\r\n",
    "  reviews_lemmatized.append(review_lemm)\r\n",
    "df.loc[:,'review_body_lemm']=reviews_lemmatized\r\n"
   ]
  },
  {
   "cell_type": "code",
   "execution_count": null,
   "metadata": {
    "colab": {
     "base_uri": "https://localhost:8080/"
    },
    "executionInfo": {
     "elapsed": 1650912,
     "status": "ok",
     "timestamp": 1613492616399,
     "user": {
      "displayName": "manuel sosa",
      "photoUrl": "",
      "userId": "09405592236662278964"
     },
     "user_tz": 180
    },
    "id": "asCbS6I18yII",
    "outputId": "f957a568-2c24-41c6-b46a-1face8c3fc9c"
   },
   "outputs": [
    {
     "name": "stderr",
     "output_type": "stream",
     "text": [
      "100%|██████████| 210000/210000 [27:30<00:00, 127.21it/s]\n",
      "/usr/local/lib/python3.6/dist-packages/ipykernel_launcher.py:6: SettingWithCopyWarning: \n",
      "A value is trying to be set on a copy of a slice from a DataFrame.\n",
      "Try using .loc[row_indexer,col_indexer] = value instead\n",
      "\n",
      "See the caveats in the documentation: https://pandas.pydata.org/pandas-docs/stable/user_guide/indexing.html#returning-a-view-versus-a-copy\n",
      "  \n"
     ]
    }
   ],
   "source": [
    "reviews_tok=[]\r\n",
    "for text in tqdm(df.review_body_lemm):\r\n",
    "  text=nlp(text)\r\n",
    "  text= [t for t in text]\r\n",
    "  reviews_tok.append(text)\r\n",
    "df['rb_lem_tok']=reviews_tok"
   ]
  },
  {
   "cell_type": "markdown",
   "metadata": {
    "id": "ik3_LSYMGdTf"
   },
   "source": [
    "Hacemos lo mismo para review_title"
   ]
  },
  {
   "cell_type": "code",
   "execution_count": null,
   "metadata": {
    "id": "okUurD5YGqc0"
   },
   "outputs": [],
   "source": [
    "from tqdm import tqdm\r\n",
    "titles_lemmatized=[]\r\n",
    "for review in tqdm(df.review_title):\r\n",
    "  #print(review)\r\n",
    "  ### Normalizamos con funcion definida\r\n",
    "  review=normalize(review)\r\n",
    "  review=\" \".join(review)\r\n",
    "  review=nlp(review)\r\n",
    "  #print(review)\r\n",
    "  ### Lemmatizamos con Spacy\r\n",
    "  review_lemm=[lemmatizer.rule_lemmatize(r) for r in review]\r\n",
    "  ### Unificamos ya que estaba en lista\r\n",
    "  \r\n",
    "  review_lemm=\" \".join([r[0] for r in review_lemm])\r\n",
    "\r\n",
    "  titles_lemmatized.append(review_lemm)\r\n",
    "print(titles_lemmatized)\r\n",
    "df['review_title_lemm']=titles_lemmatized"
   ]
  },
  {
   "cell_type": "code",
   "execution_count": null,
   "metadata": {
    "colab": {
     "base_uri": "https://localhost:8080/"
    },
    "executionInfo": {
     "elapsed": 84,
     "status": "ok",
     "timestamp": 1613496615877,
     "user": {
      "displayName": "manuel sosa",
      "photoUrl": "",
      "userId": "09405592236662278964"
     },
     "user_tz": 180
    },
    "id": "rRZCe49ibbO-",
    "outputId": "d5090d94-4d20-4451-f10a-148d453b01e1"
   },
   "outputs": [
    {
     "name": "stderr",
     "output_type": "stream",
     "text": [
      "100%|██████████| 210000/210000 [21:25<00:00, 163.31it/s]\n"
     ]
    }
   ],
   "source": [
    "titles_tok=[]\r\n",
    "for text in tqdm(df.review_title_lemm):\r\n",
    "  text=nlp(text)\r\n",
    "  text= [t for t in text]\r\n",
    "  titles_tok.append(text)\r\n",
    "df['rt_lem_tok']=titles_tok"
   ]
  },
  {
   "cell_type": "markdown",
   "metadata": {
    "id": "bgi2YjocJcHL"
   },
   "source": [
    "## Checkpoint\r\n",
    "Busco guardar df en un documento para hacer el analisis siguiente sobre el mismo (vectorizar analisis descriptivo y predictivo)"
   ]
  },
  {
   "cell_type": "markdown",
   "metadata": {
    "id": "2bAScYlWMjwu"
   },
   "source": [
    "Reducimos la fila a lo justo y necesario y le cambiamos el tipo desde doc de spacy a str.\r\n",
    "Luego lo guardamos como pickle"
   ]
  },
  {
   "cell_type": "code",
   "execution_count": null,
   "metadata": {
    "id": "B_VrShtoIAlD"
   },
   "outputs": [],
   "source": [
    "df_save_2=df[[\"stars\",\"review_body_lemm\",\"review_title_lemm\",\"product_category\"]].copy()\r\n",
    "df_save_2=df_save.astype({\"stars\":np.int64,\"review_body_lemm\":str,\"review_title_lemm\":str,\"product_category\":str})"
   ]
  },
  {
   "cell_type": "code",
   "execution_count": null,
   "metadata": {
    "id": "EKExHuNHKv88"
   },
   "outputs": [],
   "source": [
    "df_save_2.to_pickle('/content/drive/MyDrive/Colab Notebooks/proyecto 03/datos procesados final4.pkl')"
   ]
  },
  {
   "cell_type": "markdown",
   "metadata": {
    "id": "70XiHEW4Mr8P"
   },
   "source": [
    "Intento guardar el dataset entero como pickle"
   ]
  },
  {
   "cell_type": "code",
   "execution_count": null,
   "metadata": {
    "id": "R1nkeX8IMu8n"
   },
   "outputs": [],
   "source": [
    "df.reset_index(drop=True,inplace=True)\r\n",
    "\r\n",
    "df.astype(str).to_json('/content/drive/MyDrive/Colab Notebooks/proyecto 03/datos procesados completo.json')"
   ]
  },
  {
   "cell_type": "markdown",
   "metadata": {
    "id": "uIABPKIySrlm"
   },
   "source": [
    "## Ya tenemos Dataset Preprocesado: "
   ]
  },
  {
   "cell_type": "code",
   "execution_count": null,
   "metadata": {
    "id": "upKiHnuOPqOT"
   },
   "outputs": [],
   "source": [
    "import pandas as pd\r\n",
    "import numpy as np\r\n",
    "import seaborn as sns\r\n",
    "sns.set(rc={'figure.figsize':(11.7,8.27)})\r\n",
    "import matplotlib.pyplot as plt\r\n",
    "import gc #garbage collector\r\n",
    "\r\n",
    "from tqdm import tqdm\r\n",
    "import nltk"
   ]
  },
  {
   "cell_type": "markdown",
   "metadata": {
    "id": "oxP0S56kPpJn"
   },
   "source": [
    "Dataframe completo con formato str"
   ]
  },
  {
   "cell_type": "code",
   "execution_count": null,
   "metadata": {
    "id": "HOlRX-ZvNPsr"
   },
   "outputs": [],
   "source": [
    "#data_model=pd.read_json('/content/drive/MyDrive/Colab Notebooks/proyecto 03/datos procesados completo.json')"
   ]
  },
  {
   "cell_type": "markdown",
   "metadata": {
    "id": "tu3En59kPvMw"
   },
   "source": [
    "dataframe solo con columnas: stars, body lemm, title lemm y categories, todo con formato str\r\n"
   ]
  },
  {
   "cell_type": "code",
   "execution_count": null,
   "metadata": {
    "colab": {
     "base_uri": "https://localhost:8080/"
    },
    "executionInfo": {
     "elapsed": 816,
     "status": "ok",
     "timestamp": 1614301145103,
     "user": {
      "displayName": "manuel sosa",
      "photoUrl": "",
      "userId": "09405592236662278964"
     },
     "user_tz": 180
    },
    "id": "I9Edteu2tMbn",
    "outputId": "d5ffa7b2-5d48-4f56-d21c-a7f2fb2c2d40"
   },
   "outputs": [
    {
     "name": "stdout",
     "output_type": "stream",
     "text": [
      "Drive already mounted at /content/drive; to attempt to forcibly remount, call drive.mount(\"/content/drive\", force_remount=True).\n"
     ]
    }
   ],
   "source": [
    "from google.colab import drive\r\n",
    "drive.mount('/content/drive')"
   ]
  },
  {
   "cell_type": "code",
   "execution_count": null,
   "metadata": {
    "colab": {
     "base_uri": "https://localhost:8080/",
     "height": 415
    },
    "executionInfo": {
     "elapsed": 889,
     "status": "ok",
     "timestamp": 1614722335674,
     "user": {
      "displayName": "manuel sosa",
      "photoUrl": "",
      "userId": "09405592236662278964"
     },
     "user_tz": 180
    },
    "id": "6b38ZRY3LZJS",
    "outputId": "76cdb9c3-65d7-453f-9e72-37e569def723"
   },
   "outputs": [
    {
     "data": {
      "text/html": [
       "<div>\n",
       "<style scoped>\n",
       "    .dataframe tbody tr th:only-of-type {\n",
       "        vertical-align: middle;\n",
       "    }\n",
       "\n",
       "    .dataframe tbody tr th {\n",
       "        vertical-align: top;\n",
       "    }\n",
       "\n",
       "    .dataframe thead th {\n",
       "        text-align: right;\n",
       "    }\n",
       "</style>\n",
       "<table border=\"1\" class=\"dataframe\">\n",
       "  <thead>\n",
       "    <tr style=\"text-align: right;\">\n",
       "      <th></th>\n",
       "      <th>stars</th>\n",
       "      <th>review_body_lemm</th>\n",
       "      <th>review_title_lemm</th>\n",
       "      <th>product_category</th>\n",
       "    </tr>\n",
       "  </thead>\n",
       "  <tbody>\n",
       "    <tr>\n",
       "      <th>0</th>\n",
       "      <td>1</td>\n",
       "      <td>malisimo grande aparatoso protector pantalla</td>\n",
       "      <td>malo compra</td>\n",
       "      <td>wireless</td>\n",
       "    </tr>\n",
       "    <tr>\n",
       "      <th>1</th>\n",
       "      <td>1</td>\n",
       "      <td>recibido pedido devolución</td>\n",
       "      <td>recibido</td>\n",
       "      <td>apparel</td>\n",
       "    </tr>\n",
       "    <tr>\n",
       "      <th>2</th>\n",
       "      <td>1</td>\n",
       "      <td>buscar sistema funcionar abrazadera agarrar ma...</td>\n",
       "      <td>aprieta manillar</td>\n",
       "      <td>sports</td>\n",
       "    </tr>\n",
       "    <tr>\n",
       "      <th>3</th>\n",
       "      <td>1</td>\n",
       "      <td>utilicé broca menor diámetro doblar ser manteq...</td>\n",
       "      <td>broca mantequillar</td>\n",
       "      <td>home_improvement</td>\n",
       "    </tr>\n",
       "    <tr>\n",
       "      <th>4</th>\n",
       "      <td>1</td>\n",
       "      <td>gustar olor viejo aspecto malo</td>\n",
       "      <td>gustar</td>\n",
       "      <td>beauty</td>\n",
       "    </tr>\n",
       "    <tr>\n",
       "      <th>...</th>\n",
       "      <td>...</td>\n",
       "      <td>...</td>\n",
       "      <td>...</td>\n",
       "      <td>...</td>\n",
       "    </tr>\n",
       "    <tr>\n",
       "      <th>209995</th>\n",
       "      <td>5</td>\n",
       "      <td>costar perfecto cumplir función sobrar peque c...</td>\n",
       "      <td>perfecto servir</td>\n",
       "      <td>wireless</td>\n",
       "    </tr>\n",
       "    <tr>\n",
       "      <th>209996</th>\n",
       "      <td>5</td>\n",
       "      <td>material flexible cómodo acorde descripción</td>\n",
       "      <td>vendedor rápido fiable</td>\n",
       "      <td>wireless</td>\n",
       "    </tr>\n",
       "    <tr>\n",
       "      <th>209997</th>\n",
       "      <td>5</td>\n",
       "      <td>grabado</td>\n",
       "      <td>medalla bonito grabado</td>\n",
       "      <td>home</td>\n",
       "    </tr>\n",
       "    <tr>\n",
       "      <th>209998</th>\n",
       "      <td>5</td>\n",
       "      <td>comprar bici finalmente quedado xiaomi scooter...</td>\n",
       "      <td>timbre</td>\n",
       "      <td>sports</td>\n",
       "    </tr>\n",
       "    <tr>\n",
       "      <th>209999</th>\n",
       "      <td>5</td>\n",
       "      <td>tipo casco inalambrico atado goma tipico perde...</td>\n",
       "      <td>auricular cabl</td>\n",
       "      <td>electronics</td>\n",
       "    </tr>\n",
       "  </tbody>\n",
       "</table>\n",
       "<p>210000 rows × 4 columns</p>\n",
       "</div>"
      ],
      "text/plain": [
       "        stars  ...  product_category\n",
       "0           1  ...          wireless\n",
       "1           1  ...           apparel\n",
       "2           1  ...            sports\n",
       "3           1  ...  home_improvement\n",
       "4           1  ...            beauty\n",
       "...       ...  ...               ...\n",
       "209995      5  ...          wireless\n",
       "209996      5  ...          wireless\n",
       "209997      5  ...              home\n",
       "209998      5  ...            sports\n",
       "209999      5  ...       electronics\n",
       "\n",
       "[210000 rows x 4 columns]"
      ]
     },
     "execution_count": 47,
     "metadata": {
      "tags": []
     },
     "output_type": "execute_result"
    }
   ],
   "source": [
    "df_model=pd.read_pickle(\"/content/drive/MyDrive/Colab Notebooks/proyecto 03/datos procesados final4.pkl\")\r\n",
    "df_model"
   ]
  },
  {
   "cell_type": "markdown",
   "metadata": {
    "id": "V6bWaBQeVXld"
   },
   "source": [
    "### Armamos vectores count_vectorizer con sklearn\r\n",
    "\r\n",
    "Lo usamos para analisis exploratorio por ahora"
   ]
  },
  {
   "cell_type": "code",
   "execution_count": null,
   "metadata": {
    "id": "9ryBx3KXNCDB"
   },
   "outputs": [],
   "source": [
    "list_reviews=df_model.review_body_lemm.values\r\n",
    "list_titulos=df_model.review_title_lemm.values\r\n",
    "stars=df_model.stars.values\r\n",
    "category=df_model.product_category.values"
   ]
  },
  {
   "cell_type": "code",
   "execution_count": null,
   "metadata": {
    "colab": {
     "base_uri": "https://localhost:8080/"
    },
    "executionInfo": {
     "elapsed": 14978,
     "status": "ok",
     "timestamp": 1614722353194,
     "user": {
      "displayName": "manuel sosa",
      "photoUrl": "",
      "userId": "09405592236662278964"
     },
     "user_tz": 180
    },
    "id": "-rVkK_x-wosI",
    "outputId": "cbd8ca6d-f676-475f-a609-e33d85468055"
   },
   "outputs": [
    {
     "data": {
      "text/plain": [
       "4016"
      ]
     },
     "execution_count": 49,
     "metadata": {
      "tags": []
     },
     "output_type": "execute_result"
    }
   ],
   "source": [
    "### PARA REVIEWS\n",
    "## POR AHORA SOLO USAMOS ESTE PARA ANALISIS EXPLORATORIO\n",
    "from sklearn.feature_extraction.text import CountVectorizer\n",
    "\n",
    "# Usaremos solo las 1000 palabras con mas frecuencia en todo el corpus para generar los vectores. Con mas de mil se me satura la RAM.\n",
    "max_features=1000\n",
    "\n",
    "# Es decir que cada instancia tendrá 1000 features\n",
    "cou_vec=CountVectorizer(max_features=max_features, ngram_range=(1, 2))#,stop_words=\"español\")\n",
    "\n",
    "#FIT TRANSFORM\n",
    "reviews_count=cou_vec.fit_transform(list_reviews)\n",
    "\n",
    "# Tomamos las palabras\n",
    "all_words = cou_vec.get_feature_names()\n",
    "\n",
    "#Creamos Dataframe\n",
    "df_reviews_count=pd.DataFrame(data=reviews_count.toarray(),columns=all_words)\n",
    "df_reviews_count[\"stars\"]=stars\n",
    "df_reviews_count[\"product_category\"]=category\n",
    "\n",
    "\n",
    "gc.collect()"
   ]
  },
  {
   "cell_type": "markdown",
   "metadata": {
    "id": "Y9CXX4eaiLNk"
   },
   "source": [
    "Hacemos analisis exploratorio \r\n",
    "\r\n",
    "*Solo utilizamos count vectorizer para esto*"
   ]
  },
  {
   "cell_type": "markdown",
   "metadata": {
    "id": "CPNWxynCi8JT"
   },
   "source": [
    "¿Cuales son las palabras o conjunto de palabras que mas salieron?"
   ]
  },
  {
   "cell_type": "code",
   "execution_count": null,
   "metadata": {
    "id": "ZQk5i9qAiKxy"
   },
   "outputs": [],
   "source": [
    "frequency_gral=df_reviews_count.drop(columns=[\"stars\",\"product_category\"]).sum(axis=0)\r\n",
    "frequency_gral=frequency_gral.reset_index()\r\n",
    "frequency_gral.columns=[\"word\",\"frequency\"]\r\n",
    "frequency_gral.sort_values(by=\"frequency\",ascending=False,inplace=True)"
   ]
  },
  {
   "cell_type": "markdown",
   "metadata": {
    "id": "kXOqGwCLvtO5"
   },
   "source": [
    "¿Con cuantas palabras estamos trabajando?\r\n",
    "¿Cuantas veces en total aparecen estas 1000 palabras?"
   ]
  },
  {
   "cell_type": "code",
   "execution_count": null,
   "metadata": {
    "colab": {
     "base_uri": "https://localhost:8080/"
    },
    "executionInfo": {
     "elapsed": 6721,
     "status": "ok",
     "timestamp": 1614722424793,
     "user": {
      "displayName": "manuel sosa",
      "photoUrl": "",
      "userId": "09405592236662278964"
     },
     "user_tz": 180
    },
    "id": "Knh9cnPSvySV",
    "outputId": "0c9b1a8e-a070-42e1-9bbe-2fd26eb67752"
   },
   "outputs": [
    {
     "name": "stdout",
     "output_type": "stream",
     "text": [
      "Tenemos 1000 palabras\n",
      "Estas palabras aparecen unas 1552922 veces en el dataset preprocesado vs 1788179 veces en el dataset inicial\n"
     ]
    }
   ],
   "source": [
    "print(f\"Tenemos {frequency_gral.shape[0]} palabras\")\r\n",
    "print(f\"Estas palabras aparecen unas {frequency_gral.frequency.sum()} veces en el dataset preprocesado vs 1788179 veces en el dataset inicial\")"
   ]
  },
  {
   "cell_type": "markdown",
   "metadata": {
    "id": "kwX1HTeJv1cf"
   },
   "source": [
    "Creamos misma curva que analisis exploratorio inicial"
   ]
  },
  {
   "cell_type": "code",
   "execution_count": null,
   "metadata": {
    "colab": {
     "base_uri": "https://localhost:8080/",
     "height": 202
    },
    "executionInfo": {
     "elapsed": 745,
     "status": "ok",
     "timestamp": 1614722438300,
     "user": {
      "displayName": "manuel sosa",
      "photoUrl": "",
      "userId": "09405592236662278964"
     },
     "user_tz": 180
    },
    "id": "CvuWx5Irt7Ku",
    "outputId": "0dae3dd5-9fc5-488e-f05c-f270a4a129a1"
   },
   "outputs": [
    {
     "data": {
      "text/html": [
       "<div>\n",
       "<style scoped>\n",
       "    .dataframe tbody tr th:only-of-type {\n",
       "        vertical-align: middle;\n",
       "    }\n",
       "\n",
       "    .dataframe tbody tr th {\n",
       "        vertical-align: top;\n",
       "    }\n",
       "\n",
       "    .dataframe thead th {\n",
       "        text-align: right;\n",
       "    }\n",
       "</style>\n",
       "<table border=\"1\" class=\"dataframe\">\n",
       "  <thead>\n",
       "    <tr style=\"text-align: right;\">\n",
       "      <th></th>\n",
       "      <th>index</th>\n",
       "      <th>word</th>\n",
       "      <th>frequency</th>\n",
       "      <th>n</th>\n",
       "      <th>Frequency_acc</th>\n",
       "      <th>Frequency_acc_porcentual</th>\n",
       "      <th>n_porcentual</th>\n",
       "    </tr>\n",
       "  </thead>\n",
       "  <tbody>\n",
       "    <tr>\n",
       "      <th>0</th>\n",
       "      <td>996</td>\n",
       "      <td>él</td>\n",
       "      <td>38415</td>\n",
       "      <td>1</td>\n",
       "      <td>38415</td>\n",
       "      <td>2.473724</td>\n",
       "      <td>0.1</td>\n",
       "    </tr>\n",
       "    <tr>\n",
       "      <th>1</th>\n",
       "      <td>116</td>\n",
       "      <td>calidad</td>\n",
       "      <td>32323</td>\n",
       "      <td>2</td>\n",
       "      <td>70738</td>\n",
       "      <td>4.555155</td>\n",
       "      <td>0.2</td>\n",
       "    </tr>\n",
       "    <tr>\n",
       "      <th>2</th>\n",
       "      <td>742</td>\n",
       "      <td>producto</td>\n",
       "      <td>27349</td>\n",
       "      <td>3</td>\n",
       "      <td>98087</td>\n",
       "      <td>6.316286</td>\n",
       "      <td>0.3</td>\n",
       "    </tr>\n",
       "    <tr>\n",
       "      <th>3</th>\n",
       "      <td>724</td>\n",
       "      <td>precio</td>\n",
       "      <td>23048</td>\n",
       "      <td>4</td>\n",
       "      <td>121135</td>\n",
       "      <td>7.800456</td>\n",
       "      <td>0.4</td>\n",
       "    </tr>\n",
       "    <tr>\n",
       "      <th>4</th>\n",
       "      <td>183</td>\n",
       "      <td>comprar</td>\n",
       "      <td>18135</td>\n",
       "      <td>5</td>\n",
       "      <td>139270</td>\n",
       "      <td>8.968255</td>\n",
       "      <td>0.5</td>\n",
       "    </tr>\n",
       "  </tbody>\n",
       "</table>\n",
       "</div>"
      ],
      "text/plain": [
       "   index      word  ...  Frequency_acc_porcentual  n_porcentual\n",
       "0    996        él  ...                  2.473724           0.1\n",
       "1    116   calidad  ...                  4.555155           0.2\n",
       "2    742  producto  ...                  6.316286           0.3\n",
       "3    724    precio  ...                  7.800456           0.4\n",
       "4    183   comprar  ...                  8.968255           0.5\n",
       "\n",
       "[5 rows x 7 columns]"
      ]
     },
     "execution_count": 52,
     "metadata": {
      "tags": []
     },
     "output_type": "execute_result"
    }
   ],
   "source": [
    "frequency_gral_1=frequency_gral.reset_index()\r\n",
    "frequency_gral_1['n']=np.arange(1,frequency_gral_1.shape[0]+1)\r\n",
    "frequency_gral_1['Frequency_acc']=frequency_gral_1.frequency.cumsum()\r\n",
    "frequency_gral_1['Frequency_acc_porcentual']=(frequency_gral_1.Frequency_acc/frequency_gral_1.frequency.sum())*100\r\n",
    "frequency_gral_1['n_porcentual']=(frequency_gral_1.n/frequency_gral_1.n.iloc[-1])*100\r\n",
    "\r\n",
    "frequency_gral_1.head()"
   ]
  },
  {
   "cell_type": "code",
   "execution_count": null,
   "metadata": {
    "colab": {
     "base_uri": "https://localhost:8080/",
     "height": 448
    },
    "executionInfo": {
     "elapsed": 1133,
     "status": "ok",
     "timestamp": 1614722445206,
     "user": {
      "displayName": "manuel sosa",
      "photoUrl": "",
      "userId": "09405592236662278964"
     },
     "user_tz": 180
    },
    "id": "2s70j9aSuUJK",
    "outputId": "1d90812c-8134-4ca1-e77b-f3b6738e51f6"
   },
   "outputs": [
    {
     "data": {
      "image/png": "[encoded data removed]",
      "text/plain": [
       "<Figure size 1080x504 with 1 Axes>"
      ]
     },
     "metadata": {
      "needs_background": "light",
      "tags": []
     },
     "output_type": "display_data"
    }
   ],
   "source": [
    "plt.figure(figsize=[15,7])\r\n",
    "plt.plot(frequency_gral_1['n_porcentual'].values,frequency_gral_1.Frequency_acc_porcentual)\r\n",
    "plt.xlabel('% palabras distintas')\r\n",
    "plt.ylabel('% frequencia acumulada')\r\n",
    "plt.show()"
   ]
  },
  {
   "cell_type": "markdown",
   "metadata": {
    "id": "7o8F4oPhu3pp"
   },
   "source": [
    "Podemos ver que a diferencia de antes de preprocesar las palabras la frecuencia acumulada por palabra no esta tan concentrada en pocas palabras sino que se reparte relativamente mas cercano a una funcion lineal"
   ]
  },
  {
   "cell_type": "code",
   "execution_count": null,
   "metadata": {
    "colab": {
     "base_uri": "https://localhost:8080/",
     "height": 575
    },
    "executionInfo": {
     "elapsed": 2195,
     "status": "ok",
     "timestamp": 1614722487138,
     "user": {
      "displayName": "manuel sosa",
      "photoUrl": "",
      "userId": "09405592236662278964"
     },
     "user_tz": 180
    },
    "id": "2yriOqNhkg_9",
    "outputId": "d5e7316d-d046-46f0-cdd4-0443be972cb9"
   },
   "outputs": [
    {
     "data": {
      "image/png": "[encoded data removed]",
      "text/plain": [
       "<Figure size 1080x576 with 1 Axes>"
      ]
     },
     "metadata": {
      "needs_background": "light",
      "tags": []
     },
     "output_type": "display_data"
    }
   ],
   "source": [
    "plt.figure(figsize = (15,8))\r\n",
    "plot = sns.barplot(x  = frequency_gral.iloc[:40].word, y = frequency_gral.iloc[:40].frequency)\r\n",
    "for item in plot.get_xticklabels():\r\n",
    "    item.set_rotation(90)\r\n",
    "plt.show()"
   ]
  },
  {
   "cell_type": "markdown",
   "metadata": {
    "id": "QI3AQH6P9fUC"
   },
   "source": [
    "Quedo la palabra *él* porque el lemmatizer no proceso las palabras con acento"
   ]
  },
  {
   "cell_type": "markdown",
   "metadata": {
    "id": "NNF5NMQWsMqK"
   },
   "source": [
    "Cuales son las palabras mas usadas por estrella"
   ]
  },
  {
   "cell_type": "code",
   "execution_count": null,
   "metadata": {
    "colab": {
     "base_uri": "https://localhost:8080/",
     "height": 1000
    },
    "executionInfo": {
     "elapsed": 4067,
     "status": "ok",
     "timestamp": 1614722533060,
     "user": {
      "displayName": "manuel sosa",
      "photoUrl": "",
      "userId": "09405592236662278964"
     },
     "user_tz": 180
    },
    "id": "ouijUz6Vzu8q",
    "outputId": "fb15ad57-4a1d-46cd-92ba-5e438c3f5518"
   },
   "outputs": [
    {
     "name": "stderr",
     "output_type": "stream",
     "text": [
      "  0%|          | 0/5 [00:00<?, ?it/s]"
     ]
    },
    {
     "data": {
      "image/png": "[encoded data removed]",
      "text/plain": [
       "<Figure size 1080x576 with 1 Axes>"
      ]
     },
     "metadata": {
      "needs_background": "light",
      "tags": []
     },
     "output_type": "display_data"
    },
    {
     "name": "stderr",
     "output_type": "stream",
     "text": [
      " 20%|██        | 1/5 [00:00<00:02,  1.39it/s]"
     ]
    },
    {
     "data": {
      "image/png": "[encoded data removed]",
      "text/plain": [
       "<Figure size 1080x576 with 1 Axes>"
      ]
     },
     "metadata": {
      "needs_background": "light",
      "tags": []
     },
     "output_type": "display_data"
    },
    {
     "name": "stderr",
     "output_type": "stream",
     "text": [
      " 40%|████      | 2/5 [00:01<00:02,  1.42it/s]"
     ]
    },
    {
     "data": {
      "image/png": "[encoded data removed]",
      "text/plain": [
       "<Figure size 1080x576 with 1 Axes>"
      ]
     },
     "metadata": {
      "needs_background": "light",
      "tags": []
     },
     "output_type": "display_data"
    },
    {
     "name": "stderr",
     "output_type": "stream",
     "text": [
      " 60%|██████    | 3/5 [00:02<00:01,  1.42it/s]"
     ]
    },
    {
     "data": {
      "image/png": "[encoded data removed]",
      "text/plain": [
       "<Figure size 1080x576 with 1 Axes>"
      ]
     },
     "metadata": {
      "needs_background": "light",
      "tags": []
     },
     "output_type": "display_data"
    },
    {
     "name": "stderr",
     "output_type": "stream",
     "text": [
      " 80%|████████  | 4/5 [00:02<00:00,  1.42it/s]"
     ]
    },
    {
     "data": {
      "image/png": "[encoded data removed]",
      "text/plain": [
       "<Figure size 1080x576 with 1 Axes>"
      ]
     },
     "metadata": {
      "needs_background": "light",
      "tags": []
     },
     "output_type": "display_data"
    },
    {
     "name": "stderr",
     "output_type": "stream",
     "text": [
      "100%|██████████| 5/5 [00:03<00:00,  1.43it/s]\n"
     ]
    }
   ],
   "source": [
    "for star in tqdm(df_reviews_count.stars.unique()):\r\n",
    "  words_star=pd.DataFrame(df_reviews_count.loc[stars==star].drop(columns=[\"stars\",\"product_category\"]).transpose().sum(axis=1)).sort_values(by=0,ascending=False).iloc[:15]\r\n",
    "  plt.figure(figsize = (15,8))\r\n",
    "  plt.title(f\"Las 15 palabras mas mencionadas para {star} estrellas\")\r\n",
    "  plot = sns.barplot(data=words_star,x=words_star.index,y=words_star[0])\r\n",
    "  plt.ylabel(\"Frequency\")\r\n",
    "  for item in plot.get_xticklabels():\r\n",
    "    item.set_rotation(90)\r\n",
    "\r\n",
    "  plt.show()"
   ]
  },
  {
   "cell_type": "markdown",
   "metadata": {
    "id": "WQL025a0311I"
   },
   "source": [
    "¿Cuales son las palabras mas utilizadas para las distintas product_category?\r\n",
    "Hacemos lo mismo para las 8 product_category mas importantes"
   ]
  },
  {
   "cell_type": "code",
   "execution_count": null,
   "metadata": {
    "colab": {
     "base_uri": "https://localhost:8080/",
     "height": 742
    },
    "executionInfo": {
     "elapsed": 2503,
     "status": "ok",
     "timestamp": 1614722546032,
     "user": {
      "displayName": "manuel sosa",
      "photoUrl": "",
      "userId": "09405592236662278964"
     },
     "user_tz": 180
    },
    "id": "7Ub5qFPu348Q",
    "outputId": "f2ba280a-ec6e-44ad-f34e-318b800314f5"
   },
   "outputs": [
    {
     "name": "stderr",
     "output_type": "stream",
     "text": [
      "/usr/local/lib/python3.7/dist-packages/seaborn/_decorators.py:43: FutureWarning: Pass the following variable as a keyword arg: x. From version 0.12, the only valid positional argument will be `data`, and passing other arguments without an explicit keyword will result in an error or misinterpretation.\n",
      "  FutureWarning\n"
     ]
    },
    {
     "data": {
      "image/png": "[encoded data removed]",
      "text/plain": [
       "<Figure size 1080x576 with 1 Axes>"
      ]
     },
     "metadata": {
      "needs_background": "light",
      "tags": []
     },
     "output_type": "display_data"
    },
    {
     "name": "stdout",
     "output_type": "stream",
     "text": [
      "Index(['home', 'wireless', 'toy', 'sports', 'pc', 'home_improvement',\n",
      "       'electronics', 'beauty'],\n",
      "      dtype='object')\n"
     ]
    }
   ],
   "source": [
    "plt.figure(figsize = (15,8))\r\n",
    "plot =sns.countplot(df_reviews_count.product_category,order=df_reviews_count.product_category.value_counts().index) \r\n",
    "for item in plot.get_xticklabels():\r\n",
    "    item.set_rotation(90)\r\n",
    "plt.show()\r\n",
    "print(df_reviews_count.product_category.value_counts()[:8].index)"
   ]
  },
  {
   "cell_type": "code",
   "execution_count": null,
   "metadata": {
    "colab": {
     "base_uri": "https://localhost:8080/",
     "height": 1000
    },
    "executionInfo": {
     "elapsed": 6500,
     "status": "ok",
     "timestamp": 1614722565154,
     "user": {
      "displayName": "manuel sosa",
      "photoUrl": "",
      "userId": "09405592236662278964"
     },
     "user_tz": 180
    },
    "id": "sc6vTSOa39Ur",
    "outputId": "aaa49be1-10ae-4c5c-a71c-773229142c61"
   },
   "outputs": [
    {
     "name": "stderr",
     "output_type": "stream",
     "text": [
      "  0%|          | 0/8 [00:00<?, ?it/s]"
     ]
    },
    {
     "data": {
      "image/png": "[encoded data removed]",
      "text/plain": [
       "<Figure size 1080x576 with 1 Axes>"
      ]
     },
     "metadata": {
      "needs_background": "light",
      "tags": []
     },
     "output_type": "display_data"
    },
    {
     "name": "stderr",
     "output_type": "stream",
     "text": [
      " 12%|█▎        | 1/8 [00:00<00:04,  1.41it/s]"
     ]
    },
    {
     "data": {
      "image/png": "[encoded data removed]",
      "text/plain": [
       "<Figure size 1080x576 with 1 Axes>"
      ]
     },
     "metadata": {
      "needs_background": "light",
      "tags": []
     },
     "output_type": "display_data"
    },
    {
     "name": "stderr",
     "output_type": "stream",
     "text": [
      " 25%|██▌       | 2/8 [00:01<00:04,  1.42it/s]"
     ]
    },
    {
     "data": {
      "image/png": "[encoded data removed]",
      "text/plain": [
       "<Figure size 1080x576 with 1 Axes>"
      ]
     },
     "metadata": {
      "needs_background": "light",
      "tags": []
     },
     "output_type": "display_data"
    },
    {
     "name": "stderr",
     "output_type": "stream",
     "text": [
      " 38%|███▊      | 3/8 [00:02<00:03,  1.30it/s]"
     ]
    },
    {
     "data": {
      "image/png": "[encoded data removed]",
      "text/plain": [
       "<Figure size 1080x576 with 1 Axes>"
      ]
     },
     "metadata": {
      "needs_background": "light",
      "tags": []
     },
     "output_type": "display_data"
    },
    {
     "name": "stderr",
     "output_type": "stream",
     "text": [
      " 50%|█████     | 4/8 [00:02<00:02,  1.42it/s]"
     ]
    },
    {
     "data": {
      "image/png": "[encoded data removed]",
      "text/plain": [
       "<Figure size 1080x576 with 1 Axes>"
      ]
     },
     "metadata": {
      "needs_background": "light",
      "tags": []
     },
     "output_type": "display_data"
    },
    {
     "name": "stderr",
     "output_type": "stream",
     "text": [
      " 62%|██████▎   | 5/8 [00:03<00:01,  1.52it/s]"
     ]
    },
    {
     "data": {
      "image/png": "[encoded data removed]",
      "text/plain": [
       "<Figure size 1080x576 with 1 Axes>"
      ]
     },
     "metadata": {
      "needs_background": "light",
      "tags": []
     },
     "output_type": "display_data"
    },
    {
     "name": "stderr",
     "output_type": "stream",
     "text": [
      " 75%|███████▌  | 6/8 [00:03<00:01,  1.61it/s]"
     ]
    },
    {
     "data": {
      "image/png": "[encoded data removed]",
      "text/plain": [
       "<Figure size 1080x576 with 1 Axes>"
      ]
     },
     "metadata": {
      "needs_background": "light",
      "tags": []
     },
     "output_type": "display_data"
    },
    {
     "name": "stderr",
     "output_type": "stream",
     "text": [
      " 88%|████████▊ | 7/8 [00:04<00:00,  1.67it/s]"
     ]
    },
    {
     "data": {
      "image/png": "[encoded data removed]",
      "text/plain": [
       "<Figure size 1080x576 with 1 Axes>"
      ]
     },
     "metadata": {
      "needs_background": "light",
      "tags": []
     },
     "output_type": "display_data"
    },
    {
     "name": "stderr",
     "output_type": "stream",
     "text": [
      "100%|██████████| 8/8 [00:04<00:00,  1.60it/s]\n"
     ]
    }
   ],
   "source": [
    "categories=['home', 'wireless', 'toy', 'sports', 'pc', 'home_improvement',\r\n",
    "       'electronics', 'beauty']\r\n",
    "for category in tqdm(categories):\r\n",
    "  var=pd.DataFrame(df_reviews_count.loc[df_reviews_count.product_category==category].drop(columns=[\"stars\",\"product_category\"]).transpose().sum(axis=1)).sort_values(by=0,ascending=False).iloc[:15]\r\n",
    "  plt.figure(figsize = (15,8))\r\n",
    "  plt.title(f\"Las 15 palabras mas mencionadas para {category}\")\r\n",
    "  plot = sns.barplot(data=var,x=var.index,y=var[0])\r\n",
    "  plt.ylabel(\"Frequency\")\r\n",
    "  for item in plot.get_xticklabels():\r\n",
    "    item.set_rotation(90)\r\n",
    "\r\n",
    "  plt.show()"
   ]
  },
  {
   "cell_type": "markdown",
   "metadata": {
    "id": "eEcscuBGj7o3"
   },
   "source": [
    "Realizamos herramiento donde se inserta una palabra y figuran graficos por product category, por estrella y por ambos\r\n",
    "\r\n",
    "Exploramos palabras co mo precio, color o rueda para ver en que categorias importa mas."
   ]
  },
  {
   "cell_type": "code",
   "execution_count": null,
   "metadata": {
    "colab": {
     "base_uri": "https://localhost:8080/",
     "height": 1000
    },
    "executionInfo": {
     "elapsed": 5548,
     "status": "ok",
     "timestamp": 1614724233065,
     "user": {
      "displayName": "manuel sosa",
      "photoUrl": "",
      "userId": "09405592236662278964"
     },
     "user_tz": 180
    },
    "id": "lyq_IvYh40Ep",
    "outputId": "005371a9-6e2a-4c09-c634-cecd591d0ca8"
   },
   "outputs": [
    {
     "name": "stdout",
     "output_type": "stream",
     "text": [
      "ingrese palabra a analizar:deporte\n",
      " La palabra deporte aparece en  394  reviews\n"
     ]
    },
    {
     "data": {
      "image/png": "[encoded data removed]",
      "text/plain": [
       "<Figure size 1440x576 with 2 Axes>"
      ]
     },
     "metadata": {
      "needs_background": "light",
      "tags": []
     },
     "output_type": "display_data"
    },
    {
     "data": {
      "image/png": "[encoded data removed]",
      "text/plain": [
       "<Figure size 1080x576 with 2 Axes>"
      ]
     },
     "metadata": {
      "needs_background": "light",
      "tags": []
     },
     "output_type": "display_data"
    }
   ],
   "source": [
    "palabra=input(\"ingrese palabra a analizar:\")\r\n",
    "\r\n",
    "# Armamos dataset para categories\r\n",
    "sum_=df_reviews_count[df_reviews_count[palabra]>0][[palabra,\"stars\",\"product_category\"]].groupby(\"product_category\")[palabra].sum().sort_values(ascending=False)\r\n",
    "count_category=df_reviews_count.product_category.value_counts()#.sort_values(sum_.index)\r\n",
    "precio_prom_1=sum_.divide(count_category).sort_values(ascending=False)\r\n",
    "\r\n",
    "\r\n",
    "# Armamos dataset para star\r\n",
    "sum_stars=df_reviews_count[df_reviews_count[palabra]>0][[palabra,\"stars\",\"product_category\"]].groupby(\"stars\")[palabra].sum().sort_values(ascending=False)\r\n",
    "count_stars=df_reviews_count.stars.value_counts()#.sort_values(sum_.index)\r\n",
    "precio_prom=sum_stars.divide(count_stars)#.sort_values(ascending=False)\r\n",
    "\r\n",
    "#Para Matriz\r\n",
    "m_sum=df_reviews_count[df_reviews_count[palabra]>0][[palabra,\"stars\",\"product_category\"]].groupby([\"product_category\",\"stars\"])[palabra].sum().sort_values(ascending=False).reset_index()\r\n",
    "\r\n",
    "matrix=pd.pivot_table(m_sum,index=\"stars\",columns=\"product_category\",values=palabra)\r\n",
    "\r\n",
    "\r\n",
    "print(f\" La palabra {palabra} aparece en  {df_reviews_count[df_reviews_count[palabra]>0].shape[0]}  reviews\")\r\n",
    "## GRAFICO 1\r\n",
    "plt.figure(figsize=[20,8])\r\n",
    "\r\n",
    "plt.subplot(121)\r\n",
    "sns.barplot(y=precio_prom_1.index,x=precio_prom_1.values)\r\n",
    "plt.title(f\"promedio de aparicion de palabra {palabra} por categoria\")\r\n",
    "plt.xlabel(\"promedio aparicion por categoria\")\r\n",
    "\r\n",
    "## GRAFICO 2\r\n",
    "plt.subplot(122)\r\n",
    "sns.barplot(x=precio_prom.index,y=precio_prom.values)\r\n",
    "plt.title(f\"promedio de aparicion de palabra {palabra} por valoracion\")\r\n",
    "plt.xlabel(\"promedio aparicion por categoria\")\r\n",
    "\r\n",
    "\r\n",
    "plt.show()\r\n",
    "\r\n",
    "# GRAFICO 3\r\n",
    "plt.figure(figsize=[15,8])\r\n",
    "plt.title(f\"suma de apariciones de palabra {palabra} por categoria y stars\")\r\n",
    "\r\n",
    "sns.heatmap(matrix,cmap=\"YlGnBu\",fmt=\"d\")\r\n",
    "plt.show()"
   ]
  },
  {
   "cell_type": "markdown",
   "metadata": {
    "id": "B0TH4j-34qUS"
   },
   "source": [
    "## MODELOS PREDICTIVOS\r\n",
    "\r\n",
    "Utilizaremos modelos de regresion para predecir cuantas estrellas: "
   ]
  },
  {
   "cell_type": "code",
   "execution_count": null,
   "metadata": {
    "id": "HlQPoa8CmxDx"
   },
   "outputs": [],
   "source": [
    "import pandas as pd\r\n",
    "import numpy as np\r\n",
    "import seaborn as sns\r\n",
    "sns.set(rc={'figure.figsize':(11.7,8.27)})\r\n",
    "import matplotlib.pyplot as plt\r\n",
    "import gc #garbage collector\r\n",
    "\r\n",
    "from tqdm import tqdm\r\n",
    "import nltk"
   ]
  },
  {
   "cell_type": "markdown",
   "metadata": {
    "id": "kXDCeeOfmxD4"
   },
   "source": [
    "dataframe solo con columnas: stars, body lemm, title lemm y categories, todo con formato str\r\n"
   ]
  },
  {
   "cell_type": "code",
   "execution_count": null,
   "metadata": {
    "colab": {
     "base_uri": "https://localhost:8080/"
    },
    "executionInfo": {
     "elapsed": 1026,
     "status": "ok",
     "timestamp": 1614724375359,
     "user": {
      "displayName": "manuel sosa",
      "photoUrl": "",
      "userId": "09405592236662278964"
     },
     "user_tz": 180
    },
    "id": "TVuNFNb6mxD4",
    "outputId": "92ac1fff-2590-48c4-eadb-191772829bcc"
   },
   "outputs": [
    {
     "name": "stdout",
     "output_type": "stream",
     "text": [
      "Drive already mounted at /content/drive; to attempt to forcibly remount, call drive.mount(\"/content/drive\", force_remount=True).\n"
     ]
    }
   ],
   "source": [
    "from google.colab import drive\r\n",
    "drive.mount('/content/drive')"
   ]
  },
  {
   "cell_type": "code",
   "execution_count": null,
   "metadata": {
    "colab": {
     "base_uri": "https://localhost:8080/",
     "height": 415
    },
    "executionInfo": {
     "elapsed": 1001,
     "status": "ok",
     "timestamp": 1614724375826,
     "user": {
      "displayName": "manuel sosa",
      "photoUrl": "",
      "userId": "09405592236662278964"
     },
     "user_tz": 180
    },
    "id": "59x-5ilmmxD5",
    "outputId": "bc155611-1773-4444-f50d-63fadb1022cd"
   },
   "outputs": [
    {
     "data": {
      "text/html": [
       "<div>\n",
       "<style scoped>\n",
       "    .dataframe tbody tr th:only-of-type {\n",
       "        vertical-align: middle;\n",
       "    }\n",
       "\n",
       "    .dataframe tbody tr th {\n",
       "        vertical-align: top;\n",
       "    }\n",
       "\n",
       "    .dataframe thead th {\n",
       "        text-align: right;\n",
       "    }\n",
       "</style>\n",
       "<table border=\"1\" class=\"dataframe\">\n",
       "  <thead>\n",
       "    <tr style=\"text-align: right;\">\n",
       "      <th></th>\n",
       "      <th>stars</th>\n",
       "      <th>review_body_lemm</th>\n",
       "      <th>review_title_lemm</th>\n",
       "      <th>product_category</th>\n",
       "    </tr>\n",
       "  </thead>\n",
       "  <tbody>\n",
       "    <tr>\n",
       "      <th>0</th>\n",
       "      <td>1</td>\n",
       "      <td>malisimo grande aparatoso protector pantalla</td>\n",
       "      <td>malo compra</td>\n",
       "      <td>wireless</td>\n",
       "    </tr>\n",
       "    <tr>\n",
       "      <th>1</th>\n",
       "      <td>1</td>\n",
       "      <td>recibido pedido devolución</td>\n",
       "      <td>recibido</td>\n",
       "      <td>apparel</td>\n",
       "    </tr>\n",
       "    <tr>\n",
       "      <th>2</th>\n",
       "      <td>1</td>\n",
       "      <td>buscar sistema funcionar abrazadera agarrar ma...</td>\n",
       "      <td>aprieta manillar</td>\n",
       "      <td>sports</td>\n",
       "    </tr>\n",
       "    <tr>\n",
       "      <th>3</th>\n",
       "      <td>1</td>\n",
       "      <td>utilicé broca menor diámetro doblar ser manteq...</td>\n",
       "      <td>broca mantequillar</td>\n",
       "      <td>home_improvement</td>\n",
       "    </tr>\n",
       "    <tr>\n",
       "      <th>4</th>\n",
       "      <td>1</td>\n",
       "      <td>gustar olor viejo aspecto malo</td>\n",
       "      <td>gustar</td>\n",
       "      <td>beauty</td>\n",
       "    </tr>\n",
       "    <tr>\n",
       "      <th>...</th>\n",
       "      <td>...</td>\n",
       "      <td>...</td>\n",
       "      <td>...</td>\n",
       "      <td>...</td>\n",
       "    </tr>\n",
       "    <tr>\n",
       "      <th>209995</th>\n",
       "      <td>5</td>\n",
       "      <td>costar perfecto cumplir función sobrar peque c...</td>\n",
       "      <td>perfecto servir</td>\n",
       "      <td>wireless</td>\n",
       "    </tr>\n",
       "    <tr>\n",
       "      <th>209996</th>\n",
       "      <td>5</td>\n",
       "      <td>material flexible cómodo acorde descripción</td>\n",
       "      <td>vendedor rápido fiable</td>\n",
       "      <td>wireless</td>\n",
       "    </tr>\n",
       "    <tr>\n",
       "      <th>209997</th>\n",
       "      <td>5</td>\n",
       "      <td>grabado</td>\n",
       "      <td>medalla bonito grabado</td>\n",
       "      <td>home</td>\n",
       "    </tr>\n",
       "    <tr>\n",
       "      <th>209998</th>\n",
       "      <td>5</td>\n",
       "      <td>comprar bici finalmente quedado xiaomi scooter...</td>\n",
       "      <td>timbre</td>\n",
       "      <td>sports</td>\n",
       "    </tr>\n",
       "    <tr>\n",
       "      <th>209999</th>\n",
       "      <td>5</td>\n",
       "      <td>tipo casco inalambrico atado goma tipico perde...</td>\n",
       "      <td>auricular cabl</td>\n",
       "      <td>electronics</td>\n",
       "    </tr>\n",
       "  </tbody>\n",
       "</table>\n",
       "<p>210000 rows × 4 columns</p>\n",
       "</div>"
      ],
      "text/plain": [
       "        stars  ...  product_category\n",
       "0           1  ...          wireless\n",
       "1           1  ...           apparel\n",
       "2           1  ...            sports\n",
       "3           1  ...  home_improvement\n",
       "4           1  ...            beauty\n",
       "...       ...  ...               ...\n",
       "209995      5  ...          wireless\n",
       "209996      5  ...          wireless\n",
       "209997      5  ...              home\n",
       "209998      5  ...            sports\n",
       "209999      5  ...       electronics\n",
       "\n",
       "[210000 rows x 4 columns]"
      ]
     },
     "execution_count": 102,
     "metadata": {
      "tags": []
     },
     "output_type": "execute_result"
    }
   ],
   "source": [
    "df_model=pd.read_pickle(\"/content/drive/MyDrive/Colab Notebooks/proyecto 03/datos procesados final4.pkl\")\r\n",
    "df_model"
   ]
  },
  {
   "cell_type": "code",
   "execution_count": null,
   "metadata": {
    "colab": {
     "base_uri": "https://localhost:8080/"
    },
    "executionInfo": {
     "elapsed": 727,
     "status": "ok",
     "timestamp": 1614724377446,
     "user": {
      "displayName": "manuel sosa",
      "photoUrl": "",
      "userId": "09405592236662278964"
     },
     "user_tz": 180
    },
    "id": "ZyiQLTDbnBfS",
    "outputId": "2359d429-994b-433c-a687-7159976a8180"
   },
   "outputs": [
    {
     "data": {
      "text/plain": [
       "array([1, 1, 1, ..., 5, 5, 5])"
      ]
     },
     "execution_count": 103,
     "metadata": {
      "tags": []
     },
     "output_type": "execute_result"
    }
   ],
   "source": [
    "df_model.review_body_lemm.values\r\n",
    "df_model.stars.values"
   ]
  },
  {
   "cell_type": "markdown",
   "metadata": {
    "id": "2xV_PouQmxD5"
   },
   "source": [
    "### Armamos Pipelines"
   ]
  },
  {
   "cell_type": "code",
   "execution_count": null,
   "metadata": {
    "id": "cRP0hsyIm-9j"
   },
   "outputs": [],
   "source": [
    "from sklearn.model_selection import train_test_split\r\n",
    "X_train, X_test, y_train, y_test = train_test_split(\r\n",
    "    df_model.review_body_lemm.values, df_model.stars.values, test_size = 0.20, stratify=df_model.stars.values, random_state = 12)"
   ]
  },
  {
   "cell_type": "markdown",
   "metadata": {
    "id": "oZCU70Y4oEEu"
   },
   "source": [
    "Creamos Pipeline"
   ]
  },
  {
   "cell_type": "code",
   "execution_count": null,
   "metadata": {
    "id": "5uTI7yHLk31q"
   },
   "outputs": [],
   "source": [
    "from sklearn.feature_extraction.text import CountVectorizer,TfidfTransformer\r\n",
    "from sklearn.decomposition import PCA \r\n",
    "from sklearn.linear_model import Ridge\r\n",
    "\r\n",
    "vect = CountVectorizer()\r\n",
    "tfidf = TfidfTransformer()\r\n",
    "pca= PCA()\r\n",
    "clf = Ridge()\r\n",
    "\r\n",
    "from sklearn.base import TransformerMixin\r\n",
    "\r\n",
    "class DenseTransformer(TransformerMixin):\r\n",
    "\r\n",
    "    def fit(self, X, y=None, **fit_params):\r\n",
    "        return self\r\n",
    "\r\n",
    "    def transform(self, X, y=None, **fit_params):\r\n",
    "        return X.todense()\r\n",
    "tranformer=DenseTransformer()"
   ]
  },
  {
   "cell_type": "code",
   "execution_count": null,
   "metadata": {
    "id": "cCsYuae_oSFH"
   },
   "outputs": [],
   "source": [
    "from sklearn.pipeline import Pipeline\r\n",
    "from sklearn.pipeline import make_pipeline\r\n",
    "\r\n",
    "pipeline = Pipeline([('vect',vect),('tfidf',tfidf),(\"tranformer\",tranformer),(\"pca\",pca),('clf',clf)])"
   ]
  },
  {
   "cell_type": "markdown",
   "metadata": {
    "id": "G5NaC2HMoitq"
   },
   "source": [
    "### Realizamos Random Search"
   ]
  },
  {
   "cell_type": "code",
   "execution_count": null,
   "metadata": {
    "colab": {
     "base_uri": "https://localhost:8080/"
    },
    "executionInfo": {
     "elapsed": 539,
     "status": "ok",
     "timestamp": 1614724386378,
     "user": {
      "displayName": "manuel sosa",
      "photoUrl": "",
      "userId": "09405592236662278964"
     },
     "user_tz": 180
    },
    "id": "Ao_GTgrro7-v",
    "outputId": "f3b1075a-ed34-4e9e-dcfc-39b11eff8cab"
   },
   "outputs": [
    {
     "data": {
      "text/plain": [
       "dict_keys(['memory', 'steps', 'verbose', 'vect', 'tfidf', 'tranformer', 'pca', 'clf', 'vect__analyzer', 'vect__binary', 'vect__decode_error', 'vect__dtype', 'vect__encoding', 'vect__input', 'vect__lowercase', 'vect__max_df', 'vect__max_features', 'vect__min_df', 'vect__ngram_range', 'vect__preprocessor', 'vect__stop_words', 'vect__strip_accents', 'vect__token_pattern', 'vect__tokenizer', 'vect__vocabulary', 'tfidf__norm', 'tfidf__smooth_idf', 'tfidf__sublinear_tf', 'tfidf__use_idf', 'pca__copy', 'pca__iterated_power', 'pca__n_components', 'pca__random_state', 'pca__svd_solver', 'pca__tol', 'pca__whiten', 'clf__alpha', 'clf__copy_X', 'clf__fit_intercept', 'clf__max_iter', 'clf__normalize', 'clf__random_state', 'clf__solver', 'clf__tol'])"
      ]
     },
     "execution_count": 107,
     "metadata": {
      "tags": []
     },
     "output_type": "execute_result"
    }
   ],
   "source": [
    "pipeline.get_params().keys()"
   ]
  },
  {
   "cell_type": "code",
   "execution_count": null,
   "metadata": {
    "id": "RgFNYBwtoYN-"
   },
   "outputs": [],
   "source": [
    "param_grid={\"vect__max_features\":[750,1000],'vect__ngram_range':[(1,1),(1,2)],\r\n",
    "            'pca__n_components':[300, 500, 700],\r\n",
    "            'clf__alpha':[0.5,1,1.5,2,4]\r\n",
    "            }"
   ]
  },
  {
   "cell_type": "code",
   "execution_count": null,
   "metadata": {
    "colab": {
     "base_uri": "https://localhost:8080/"
    },
    "executionInfo": {
     "elapsed": 3579573,
     "status": "ok",
     "timestamp": 1614728403802,
     "user": {
      "displayName": "manuel sosa",
      "photoUrl": "",
      "userId": "09405592236662278964"
     },
     "user_tz": 180
    },
    "id": "0D_WtEbWq4-A",
    "outputId": "fa05a811-1582-4e96-93d7-3287f1200b08"
   },
   "outputs": [
    {
     "name": "stdout",
     "output_type": "stream",
     "text": [
      "Fitting 4 folds for each of 15 candidates, totalling 60 fits\n"
     ]
    },
    {
     "name": "stderr",
     "output_type": "stream",
     "text": [
      "[Parallel(n_jobs=-1)]: Using backend LokyBackend with 2 concurrent workers.\n",
      "[Parallel(n_jobs=-1)]: Done   1 tasks      | elapsed:  2.5min\n",
      "[Parallel(n_jobs=-1)]: Done   4 tasks      | elapsed:  4.9min\n",
      "[Parallel(n_jobs=-1)]: Done   9 tasks      | elapsed:  8.6min\n",
      "[Parallel(n_jobs=-1)]: Done  14 tasks      | elapsed: 12.1min\n",
      "[Parallel(n_jobs=-1)]: Done  21 tasks      | elapsed: 19.2min\n",
      "[Parallel(n_jobs=-1)]: Done  28 tasks      | elapsed: 24.7min\n",
      "[Parallel(n_jobs=-1)]: Done  37 tasks      | elapsed: 34.1min\n",
      "[Parallel(n_jobs=-1)]: Done  46 tasks      | elapsed: 40.7min\n",
      "[Parallel(n_jobs=-1)]: Done  57 tasks      | elapsed: 53.4min\n",
      "/usr/local/lib/python3.7/dist-packages/joblib/externals/loky/process_executor.py:691: UserWarning: A worker stopped while some jobs were given to the executor. This can be caused by a too short worker timeout or by a memory leak.\n",
      "  \"timeout or by a memory leak.\", UserWarning\n",
      "[Parallel(n_jobs=-1)]: Done  60 out of  60 | elapsed: 57.0min finished\n"
     ]
    },
    {
     "data": {
      "text/plain": [
       "RandomizedSearchCV(cv=4, error_score=nan,\n",
       "                   estimator=Pipeline(memory=None,\n",
       "                                      steps=[('vect',\n",
       "                                              CountVectorizer(analyzer='word',\n",
       "                                                              binary=False,\n",
       "                                                              decode_error='strict',\n",
       "                                                              dtype=<class 'numpy.int64'>,\n",
       "                                                              encoding='utf-8',\n",
       "                                                              input='content',\n",
       "                                                              lowercase=True,\n",
       "                                                              max_df=1.0,\n",
       "                                                              max_features=None,\n",
       "                                                              min_df=1,\n",
       "                                                              ngram_range=(1,\n",
       "                                                                           1),\n",
       "                                                              preprocessor=None,\n",
       "                                                              stop_words=None,\n",
       "                                                              strip_accents=None,\n",
       "                                                              token_pattern...\n",
       "                                                    solver='auto',\n",
       "                                                    tol=0.001))],\n",
       "                                      verbose=False),\n",
       "                   iid='deprecated', n_iter=15, n_jobs=-1,\n",
       "                   param_distributions={'clf__alpha': [0.5, 1, 1.5, 2, 4],\n",
       "                                        'pca__n_components': [300, 500, 700],\n",
       "                                        'vect__max_features': [750, 1000],\n",
       "                                        'vect__ngram_range': [(1, 1), (1, 2)]},\n",
       "                   pre_dispatch='2*n_jobs', random_state=None, refit=True,\n",
       "                   return_train_score=False,\n",
       "                   scoring='neg_root_mean_squared_error', verbose=10)"
      ]
     },
     "execution_count": 113,
     "metadata": {
      "tags": []
     },
     "output_type": "execute_result"
    }
   ],
   "source": [
    "from sklearn.model_selection import RandomizedSearchCV\r\n",
    "search = RandomizedSearchCV(pipeline, param_distributions=param_grid,cv=4,n_iter=15,n_jobs=-1,scoring=\"neg_root_mean_squared_error\",verbose=10)\r\n",
    "search.fit(X_train, y_train)"
   ]
  },
  {
   "cell_type": "code",
   "execution_count": null,
   "metadata": {
    "colab": {
     "base_uri": "https://localhost:8080/",
     "height": 811
    },
    "executionInfo": {
     "elapsed": 733,
     "status": "ok",
     "timestamp": 1614729897288,
     "user": {
      "displayName": "manuel sosa",
      "photoUrl": "",
      "userId": "09405592236662278964"
     },
     "user_tz": 180
    },
    "id": "2S2X6sojrBxr",
    "outputId": "157c33a2-99b6-459e-e506-ed92cfc438f1"
   },
   "outputs": [
    {
     "name": "stdout",
     "output_type": "stream",
     "text": [
      "Mejor Modelo:  Pipeline(memory=None,\n",
      "         steps=[('vect',\n",
      "                 CountVectorizer(analyzer='word', binary=False,\n",
      "                                 decode_error='strict',\n",
      "                                 dtype=<class 'numpy.int64'>, encoding='utf-8',\n",
      "                                 input='content', lowercase=True, max_df=1.0,\n",
      "                                 max_features=1000, min_df=1,\n",
      "                                 ngram_range=(1, 1), preprocessor=None,\n",
      "                                 stop_words=None, strip_accents=None,\n",
      "                                 token_pattern='(?u)\\\\b\\\\w\\\\w+\\\\b',\n",
      "                                 tokenizer=None, vocabulary=Non...\n",
      "                                  sublinear_tf=False, use_idf=True)),\n",
      "                ('tranformer',\n",
      "                 <__main__.DenseTransformer object at 0x7f78bc2cb190>),\n",
      "                ('pca',\n",
      "                 PCA(copy=True, iterated_power='auto', n_components=700,\n",
      "                     random_state=None, svd_solver='auto', tol=0.0,\n",
      "                     whiten=False)),\n",
      "                ('clf',\n",
      "                 Ridge(alpha=4, copy_X=True, fit_intercept=True, max_iter=None,\n",
      "                       normalize=False, random_state=None, solver='auto',\n",
      "                       tol=0.001))],\n",
      "         verbose=False)\n",
      "Mejor Score:   -1.0630013365060917\n"
     ]
    },
    {
     "data": {
      "text/html": [
       "<div>\n",
       "<style scoped>\n",
       "    .dataframe tbody tr th:only-of-type {\n",
       "        vertical-align: middle;\n",
       "    }\n",
       "\n",
       "    .dataframe tbody tr th {\n",
       "        vertical-align: top;\n",
       "    }\n",
       "\n",
       "    .dataframe thead th {\n",
       "        text-align: right;\n",
       "    }\n",
       "</style>\n",
       "<table border=\"1\" class=\"dataframe\">\n",
       "  <thead>\n",
       "    <tr style=\"text-align: right;\">\n",
       "      <th></th>\n",
       "      <th>mean_fit_time</th>\n",
       "      <th>std_fit_time</th>\n",
       "      <th>mean_score_time</th>\n",
       "      <th>std_score_time</th>\n",
       "      <th>param_vect__ngram_range</th>\n",
       "      <th>param_vect__max_features</th>\n",
       "      <th>param_pca__n_components</th>\n",
       "      <th>param_clf__alpha</th>\n",
       "      <th>params</th>\n",
       "      <th>split0_test_score</th>\n",
       "      <th>split1_test_score</th>\n",
       "      <th>split2_test_score</th>\n",
       "      <th>split3_test_score</th>\n",
       "      <th>mean_test_score</th>\n",
       "      <th>std_test_score</th>\n",
       "      <th>rank_test_score</th>\n",
       "    </tr>\n",
       "  </thead>\n",
       "  <tbody>\n",
       "    <tr>\n",
       "      <th>14</th>\n",
       "      <td>211.606924</td>\n",
       "      <td>12.112999</td>\n",
       "      <td>4.388760</td>\n",
       "      <td>0.992545</td>\n",
       "      <td>(1, 1)</td>\n",
       "      <td>1000</td>\n",
       "      <td>700</td>\n",
       "      <td>4</td>\n",
       "      <td>{'vect__ngram_range': (1, 1), 'vect__max_featu...</td>\n",
       "      <td>-1.064189</td>\n",
       "      <td>-1.057029</td>\n",
       "      <td>-1.070348</td>\n",
       "      <td>-1.060439</td>\n",
       "      <td>-1.063001</td>\n",
       "      <td>0.004940</td>\n",
       "      <td>1</td>\n",
       "    </tr>\n",
       "    <tr>\n",
       "      <th>7</th>\n",
       "      <td>65.414783</td>\n",
       "      <td>0.499045</td>\n",
       "      <td>4.590936</td>\n",
       "      <td>0.065991</td>\n",
       "      <td>(1, 2)</td>\n",
       "      <td>750</td>\n",
       "      <td>700</td>\n",
       "      <td>4</td>\n",
       "      <td>{'vect__ngram_range': (1, 2), 'vect__max_featu...</td>\n",
       "      <td>-1.068309</td>\n",
       "      <td>-1.063285</td>\n",
       "      <td>-1.076107</td>\n",
       "      <td>-1.066116</td>\n",
       "      <td>-1.068454</td>\n",
       "      <td>0.004764</td>\n",
       "      <td>2</td>\n",
       "    </tr>\n",
       "    <tr>\n",
       "      <th>4</th>\n",
       "      <td>65.631157</td>\n",
       "      <td>0.221172</td>\n",
       "      <td>4.505030</td>\n",
       "      <td>0.204120</td>\n",
       "      <td>(1, 2)</td>\n",
       "      <td>750</td>\n",
       "      <td>700</td>\n",
       "      <td>1.5</td>\n",
       "      <td>{'vect__ngram_range': (1, 2), 'vect__max_featu...</td>\n",
       "      <td>-1.068314</td>\n",
       "      <td>-1.063324</td>\n",
       "      <td>-1.076223</td>\n",
       "      <td>-1.066111</td>\n",
       "      <td>-1.068493</td>\n",
       "      <td>0.004800</td>\n",
       "      <td>3</td>\n",
       "    </tr>\n",
       "    <tr>\n",
       "      <th>5</th>\n",
       "      <td>152.069606</td>\n",
       "      <td>2.172097</td>\n",
       "      <td>4.515888</td>\n",
       "      <td>0.083156</td>\n",
       "      <td>(1, 2)</td>\n",
       "      <td>1000</td>\n",
       "      <td>500</td>\n",
       "      <td>1.5</td>\n",
       "      <td>{'vect__ngram_range': (1, 2), 'vect__max_featu...</td>\n",
       "      <td>-1.071885</td>\n",
       "      <td>-1.067966</td>\n",
       "      <td>-1.080962</td>\n",
       "      <td>-1.071795</td>\n",
       "      <td>-1.073152</td>\n",
       "      <td>0.004778</td>\n",
       "      <td>4</td>\n",
       "    </tr>\n",
       "    <tr>\n",
       "      <th>8</th>\n",
       "      <td>146.227748</td>\n",
       "      <td>5.902169</td>\n",
       "      <td>3.736248</td>\n",
       "      <td>0.206340</td>\n",
       "      <td>(1, 1)</td>\n",
       "      <td>1000</td>\n",
       "      <td>500</td>\n",
       "      <td>1.5</td>\n",
       "      <td>{'vect__ngram_range': (1, 1), 'vect__max_featu...</td>\n",
       "      <td>-1.075923</td>\n",
       "      <td>-1.068442</td>\n",
       "      <td>-1.081666</td>\n",
       "      <td>-1.072977</td>\n",
       "      <td>-1.074752</td>\n",
       "      <td>0.004799</td>\n",
       "      <td>5</td>\n",
       "    </tr>\n",
       "  </tbody>\n",
       "</table>\n",
       "</div>"
      ],
      "text/plain": [
       "    mean_fit_time  std_fit_time  ...  std_test_score  rank_test_score\n",
       "14     211.606924     12.112999  ...        0.004940                1\n",
       "7       65.414783      0.499045  ...        0.004764                2\n",
       "4       65.631157      0.221172  ...        0.004800                3\n",
       "5      152.069606      2.172097  ...        0.004778                4\n",
       "8      146.227748      5.902169  ...        0.004799                5\n",
       "\n",
       "[5 rows x 16 columns]"
      ]
     },
     "execution_count": 114,
     "metadata": {
      "tags": []
     },
     "output_type": "execute_result"
    }
   ],
   "source": [
    "print(\"Mejor Modelo: \", search.best_estimator_)\r\n",
    "print(\"Mejor Score:  \",search.best_score_)\r\n",
    "pd.DataFrame(search.cv_results_).sort_values(by=\"rank_test_score\").iloc[:5]"
   ]
  },
  {
   "cell_type": "code",
   "execution_count": null,
   "metadata": {
    "colab": {
     "base_uri": "https://localhost:8080/"
    },
    "executionInfo": {
     "elapsed": 1365,
     "status": "ok",
     "timestamp": 1614729985869,
     "user": {
      "displayName": "manuel sosa",
      "photoUrl": "",
      "userId": "09405592236662278964"
     },
     "user_tz": 180
    },
    "id": "E4V2ABv77rj1",
    "outputId": "7401832b-3c12-48af-cc55-9134052f1fe9"
   },
   "outputs": [
    {
     "data": {
      "text/plain": [
       "array([{'vect__ngram_range': (1, 1), 'vect__max_features': 1000, 'pca__n_components': 700, 'clf__alpha': 4}],\n",
       "      dtype=object)"
      ]
     },
     "execution_count": 116,
     "metadata": {
      "tags": []
     },
     "output_type": "execute_result"
    }
   ],
   "source": [
    "d=pd.DataFrame(search.cv_results_)\r\n",
    "d.loc[d.rank_test_score == 1].params.values"
   ]
  },
  {
   "cell_type": "markdown",
   "metadata": {
    "id": "i0FpSswovP3P"
   },
   "source": [
    "Params Best Model Linear Regressor Ridge\r\n",
    "\r\n",
    "\r\n",
    "{'vect__ngram_range': (1, 1), 'vect__max_features': 1000, 'pca__n_components': 700, 'clf__alpha': 4}\r\n",
    "\r\n",
    " Score=0.43705891419546794"
   ]
  },
  {
   "cell_type": "code",
   "execution_count": null,
   "metadata": {
    "id": "ri0UE6dukpgl"
   },
   "outputs": [],
   "source": [
    "from sklearn.pipeline import Pipeline\r\n",
    "from sklearn.pipeline import make_pipeline\r\n",
    "\r\n",
    "from sklearn.feature_extraction.text import CountVectorizer,TfidfTransformer\r\n",
    "from sklearn.decomposition import PCA \r\n",
    "from sklearn.linear_model import Ridge\r\n",
    "\r\n",
    "vect = CountVectorizer(max_features=1000,ngram_range=(1,1))\r\n",
    "tfidf = TfidfTransformer()\r\n",
    "pca= PCA(n_components=700)\r\n",
    "clf = Ridge(alpha=4)\r\n",
    "\r\n",
    "from sklearn.base import TransformerMixin\r\n",
    "\r\n",
    "class DenseTransformer(TransformerMixin):\r\n",
    "\r\n",
    "    def fit(self, X, y=None, **fit_params):\r\n",
    "        return self\r\n",
    "\r\n",
    "    def transform(self, X, y=None, **fit_params):\r\n",
    "        return X.todense()\r\n",
    "tranformer=DenseTransformer()\r\n",
    "\r\n",
    "\r\n",
    "pipeline = Pipeline([('vect',vect),('tfidf',tfidf),(\"tranformer\",tranformer),(\"pca\",pca),('clf',clf)])"
   ]
  },
  {
   "cell_type": "code",
   "execution_count": null,
   "metadata": {
    "colab": {
     "base_uri": "https://localhost:8080/"
    },
    "executionInfo": {
     "elapsed": 174053,
     "status": "ok",
     "timestamp": 1614730212995,
     "user": {
      "displayName": "manuel sosa",
      "photoUrl": "",
      "userId": "09405592236662278964"
     },
     "user_tz": 180
    },
    "id": "JvLVOEqFmBVC",
    "outputId": "97b2e620-6eda-4b97-d2d4-7b2e04c09af5"
   },
   "outputs": [
    {
     "data": {
      "text/plain": [
       "Pipeline(memory=None,\n",
       "         steps=[('vect',\n",
       "                 CountVectorizer(analyzer='word', binary=False,\n",
       "                                 decode_error='strict',\n",
       "                                 dtype=<class 'numpy.int64'>, encoding='utf-8',\n",
       "                                 input='content', lowercase=True, max_df=1.0,\n",
       "                                 max_features=1000, min_df=1,\n",
       "                                 ngram_range=(1, 1), preprocessor=None,\n",
       "                                 stop_words=None, strip_accents=None,\n",
       "                                 token_pattern='(?u)\\\\b\\\\w\\\\w+\\\\b',\n",
       "                                 tokenizer=None, vocabulary=Non...\n",
       "                                  sublinear_tf=False, use_idf=True)),\n",
       "                ('tranformer',\n",
       "                 <__main__.DenseTransformer object at 0x7f78bc291110>),\n",
       "                ('pca',\n",
       "                 PCA(copy=True, iterated_power='auto', n_components=700,\n",
       "                     random_state=None, svd_solver='auto', tol=0.0,\n",
       "                     whiten=False)),\n",
       "                ('clf',\n",
       "                 Ridge(alpha=4, copy_X=True, fit_intercept=True, max_iter=None,\n",
       "                       normalize=False, random_state=None, solver='auto',\n",
       "                       tol=0.001))],\n",
       "         verbose=False)"
      ]
     },
     "execution_count": 118,
     "metadata": {
      "tags": []
     },
     "output_type": "execute_result"
    }
   ],
   "source": [
    "pipeline.fit(X_train,y_train)"
   ]
  },
  {
   "cell_type": "code",
   "execution_count": null,
   "metadata": {
    "colab": {
     "base_uri": "https://localhost:8080/"
    },
    "executionInfo": {
     "elapsed": 13946,
     "status": "ok",
     "timestamp": 1614730232424,
     "user": {
      "displayName": "manuel sosa",
      "photoUrl": "",
      "userId": "09405592236662278964"
     },
     "user_tz": 180
    },
    "id": "dl2dfdq8rN7J",
    "outputId": "7ba87187-9966-4748-d2aa-a975e5851500"
   },
   "outputs": [
    {
     "name": "stdout",
     "output_type": "stream",
     "text": [
      "RMSE Train:  1.0586704985667352\n",
      "RMSE Test:  1.0650838901032966\n"
     ]
    }
   ],
   "source": [
    "from sklearn.metrics import mean_squared_error\r\n",
    "y_test_pred=pipeline.predict(X_test)\r\n",
    "y_train_pred=pipeline.predict(X_train)\r\n",
    "\r\n",
    "print(f\"RMSE Train:  {np.sqrt(mean_squared_error(y_train,y_train_pred))}\")\r\n",
    "print(f\"RMSE Test:  {np.sqrt(mean_squared_error(y_test,y_test_pred))}\")"
   ]
  },
  {
   "cell_type": "code",
   "execution_count": null,
   "metadata": {
    "colab": {
     "base_uri": "https://localhost:8080/",
     "height": 506
    },
    "executionInfo": {
     "elapsed": 2947,
     "status": "ok",
     "timestamp": 1614730278244,
     "user": {
      "displayName": "manuel sosa",
      "photoUrl": "",
      "userId": "09405592236662278964"
     },
     "user_tz": 180
    },
    "id": "_OrD6X8V-vMe",
    "outputId": "d06863d9-edaa-4fdb-f1bb-93170704b4f1"
   },
   "outputs": [
    {
     "data": {
      "text/plain": [
       "<matplotlib.legend.Legend at 0x7f78bbe148d0>"
      ]
     },
     "execution_count": 121,
     "metadata": {
      "tags": []
     },
     "output_type": "execute_result"
    },
    {
     "data": {
      "image/png": "[encoded data removed]",
      "text/plain": [
       "<Figure size 1440x576 with 1 Axes>"
      ]
     },
     "metadata": {
      "tags": []
     },
     "output_type": "display_data"
    }
   ],
   "source": [
    "## Grafico distribucion de errores de conjunto Train y conjunto Test\r\n",
    "## Grafico distribucion de errores de conjunto Train y conjunto Test\r\n",
    "plt.figure(figsize=[20,8])\r\n",
    "#plt.subplot(2,1,1)  \r\n",
    "\r\n",
    "plt.hist(y_train-y_train_pred,color=\"b\",label=\"Train\",bins=50)\r\n",
    "plt.hist(y_test-y_test_pred,color=\"r\",label=\"Test\",bins=50)\r\n",
    "\r\n",
    "plt.xlabel(\"Error\")\r\n",
    "plt.ylabel(\"Instancias\")\r\n",
    "plt.legend()\r\n",
    "\r\n",
    "#plt.subplot(2,1,2)\r\n",
    "\r\n"
   ]
  },
  {
   "cell_type": "code",
   "execution_count": null,
   "metadata": {
    "colab": {
     "base_uri": "https://localhost:8080/",
     "height": 594
    },
    "executionInfo": {
     "elapsed": 3393,
     "status": "ok",
     "timestamp": 1614730807132,
     "user": {
      "displayName": "manuel sosa",
      "photoUrl": "",
      "userId": "09405592236662278964"
     },
     "user_tz": 180
    },
    "id": "A_D8hjr0bdHS",
    "outputId": "5fad7b25-d93c-4ae9-d5c5-6e2b7f9a5b6f"
   },
   "outputs": [
    {
     "data": {
      "image/png": "[encoded data removed]",
      "text/plain": [
       "<Figure size 720x720 with 1 Axes>"
      ]
     },
     "metadata": {
      "tags": []
     },
     "output_type": "display_data"
    }
   ],
   "source": [
    "plt.figure(figsize=[10,10])\r\n",
    "\r\n",
    "plt.scatter(x=y_train,y=y_train_pred,alpha=0.1,label=(\"Train\"),c=\"r\",s=0.5)\r\n",
    "\r\n",
    "plt.scatter(x=y_test,y=y_test_pred,alpha=0.1,label=(\"Test\"),c=\"b\",s=0.5)\r\n",
    "\r\n",
    "\r\n",
    "\r\n",
    "plt.legend()\r\n",
    "\r\n",
    "plt.plot(range(1,6),range(1,6))\r\n",
    "\r\n",
    "plt.show()"
   ]
  },
  {
   "cell_type": "markdown",
   "metadata": {
    "id": "y_u7Gkeqvrme"
   },
   "source": [
    "### Con XGboost"
   ]
  },
  {
   "cell_type": "code",
   "execution_count": null,
   "metadata": {
    "colab": {
     "base_uri": "https://localhost:8080/"
    },
    "executionInfo": {
     "elapsed": 15719,
     "status": "ok",
     "timestamp": 1614297267103,
     "user": {
      "displayName": "manuel sosa",
      "photoUrl": "",
      "userId": "09405592236662278964"
     },
     "user_tz": 180
    },
    "id": "P4TtDfTmvxl5",
    "outputId": "f403e3ea-5294-4567-a971-9b0e337b436c"
   },
   "outputs": [
    {
     "name": "stdout",
     "output_type": "stream",
     "text": [
      "Requirement already satisfied: xgboost in /usr/local/lib/python3.7/dist-packages (0.90)\n",
      "Requirement already satisfied: scipy in /usr/local/lib/python3.7/dist-packages (from xgboost) (1.4.1)\n",
      "Requirement already satisfied: numpy in /usr/local/lib/python3.7/dist-packages (from xgboost) (1.19.5)\n"
     ]
    }
   ],
   "source": [
    "!pip3 install xgboost"
   ]
  },
  {
   "cell_type": "code",
   "execution_count": null,
   "metadata": {
    "id": "MYVAq-ESwgPH"
   },
   "outputs": [],
   "source": [
    "from sklearn.feature_extraction.text import CountVectorizer,TfidfTransformer\r\n",
    "from sklearn.decomposition import PCA \r\n",
    "from sklearn.linear_model import Ridge\r\n",
    "import xgboost as xgb\r\n",
    "from sklearn.base import TransformerMixin\r\n",
    "\r\n",
    "class DenseTransformer(TransformerMixin):\r\n",
    "\r\n",
    "    def fit(self, X, y=None, **fit_params):\r\n",
    "        return self\r\n",
    "\r\n",
    "    def transform(self, X, y=None, **fit_params):\r\n",
    "        return X.todense()\r\n",
    "\r\n",
    "### DEFINO PIPELINE CON XGBOOST\r\n",
    "pipeline_xgb = Pipeline([('vect',CountVectorizer(max_features=1000,ngram_range=(1,2))),\r\n",
    "                      ('tfidf',TfidfTransformer()),\r\n",
    "                      (\"tranformer\",tranformer),\r\n",
    "                      (\"pca\",PCA(n_components=700)),\r\n",
    "                      ('clf',xgb.XGBRegressor(max_depth=5,n_estimators=100,learning_rate=0.3,objective='reg:squarederror'))])"
   ]
  },
  {
   "cell_type": "code",
   "execution_count": null,
   "metadata": {
    "colab": {
     "base_uri": "https://localhost:8080/"
    },
    "executionInfo": {
     "elapsed": 1551251,
     "status": "ok",
     "timestamp": 1614298829415,
     "user": {
      "displayName": "manuel sosa",
      "photoUrl": "",
      "userId": "09405592236662278964"
     },
     "user_tz": 180
    },
    "id": "ofF6AeUUitJ-",
    "outputId": "9fc9b72a-e444-407e-9f47-625196dbf09a"
   },
   "outputs": [
    {
     "data": {
      "text/plain": [
       "Pipeline(memory=None,\n",
       "         steps=[('vect',\n",
       "                 CountVectorizer(analyzer='word', binary=False,\n",
       "                                 decode_error='strict',\n",
       "                                 dtype=<class 'numpy.int64'>, encoding='utf-8',\n",
       "                                 input='content', lowercase=True, max_df=1.0,\n",
       "                                 max_features=1000, min_df=1,\n",
       "                                 ngram_range=(1, 2), preprocessor=None,\n",
       "                                 stop_words=None, strip_accents=None,\n",
       "                                 token_pattern='(?u)\\\\b\\\\w\\\\w+\\\\b',\n",
       "                                 tokenizer=None, vocabulary=Non...\n",
       "                              colsample_bylevel=1, colsample_bynode=1,\n",
       "                              colsample_bytree=1, gamma=0,\n",
       "                              importance_type='gain', learning_rate=0.3,\n",
       "                              max_delta_step=0, max_depth=5, min_child_weight=1,\n",
       "                              missing=None, n_estimators=100, n_jobs=1,\n",
       "                              nthread=None, objective='reg:squarederror',\n",
       "                              random_state=0, reg_alpha=0, reg_lambda=1,\n",
       "                              scale_pos_weight=1, seed=None, silent=None,\n",
       "                              subsample=1, verbosity=1))],\n",
       "         verbose=False)"
      ]
     },
     "execution_count": 17,
     "metadata": {
      "tags": []
     },
     "output_type": "execute_result"
    }
   ],
   "source": [
    "pipeline_xgb.fit(X_train,y_train)"
   ]
  },
  {
   "cell_type": "code",
   "execution_count": null,
   "metadata": {
    "colab": {
     "base_uri": "https://localhost:8080/"
    },
    "executionInfo": {
     "elapsed": 14709,
     "status": "ok",
     "timestamp": 1614298844143,
     "user": {
      "displayName": "manuel sosa",
      "photoUrl": "",
      "userId": "09405592236662278964"
     },
     "user_tz": 180
    },
    "id": "vpdRZ7Jojbdp",
    "outputId": "31013251-5509-4d59-e4f6-aecf2c7a0470"
   },
   "outputs": [
    {
     "name": "stdout",
     "output_type": "stream",
     "text": [
      "RMSE Train:  1.0058276747630053\n",
      "RMSE Test:  1.073813399661005\n"
     ]
    }
   ],
   "source": [
    "from sklearn.metrics import mean_squared_error\r\n",
    "y_test_pred=pipeline_xgb.predict(X_test)\r\n",
    "y_train_pred= pipeline_xgb.predict(X_train)\r\n",
    "\r\n",
    "print(f\"RMSE Train:  {np.sqrt(mean_squared_error(y_train,y_train_pred))}\")\r\n",
    "print(f\"RMSE Test:  {np.sqrt(mean_squared_error(y_test,y_test_pred))}\")"
   ]
  },
  {
   "cell_type": "code",
   "execution_count": null,
   "metadata": {
    "colab": {
     "base_uri": "https://localhost:8080/",
     "height": 503
    },
    "executionInfo": {
     "elapsed": 2416,
     "status": "ok",
     "timestamp": 1614299900491,
     "user": {
      "displayName": "manuel sosa",
      "photoUrl": "",
      "userId": "09405592236662278964"
     },
     "user_tz": 180
    },
    "id": "S6DxNNGnjF7-",
    "outputId": "51908912-a0be-43e1-f473-f0dc1977aeef"
   },
   "outputs": [
    {
     "data": {
      "text/plain": [
       "<matplotlib.legend.Legend at 0x7faa26724e90>"
      ]
     },
     "execution_count": 34,
     "metadata": {
      "tags": []
     },
     "output_type": "execute_result"
    },
    {
     "data": {
      "image/png": "[encoded data removed]",
      "text/plain": [
       "<Figure size 1440x576 with 1 Axes>"
      ]
     },
     "metadata": {
      "tags": []
     },
     "output_type": "display_data"
    }
   ],
   "source": [
    "## Grafico distribucion de errores de conjunto Train y conjunto Test\r\n",
    "plt.figure(figsize=[20,8])\r\n",
    "#plt.subplot(2,1,1)  \r\n",
    "\r\n",
    "plt.hist(y_train-y_train_pred,color=\"b\",label=\"Train\",bins=50)\r\n",
    "plt.hist(y_test-y_test_pred,color=\"r\",label=\"Test\",bins=50)\r\n",
    "\r\n",
    "\r\n",
    "plt.legend()\r\n",
    "\r\n",
    "#plt.subplot(2,1,2)\r\n"
   ]
  },
  {
   "cell_type": "code",
   "execution_count": null,
   "metadata": {
    "colab": {
     "base_uri": "https://localhost:8080/",
     "height": 340
    },
    "executionInfo": {
     "elapsed": 1973,
     "status": "ok",
     "timestamp": 1614300635718,
     "user": {
      "displayName": "manuel sosa",
      "photoUrl": "",
      "userId": "09405592236662278964"
     },
     "user_tz": 180
    },
    "id": "5Lq1lME9xelZ",
    "outputId": "39c2251a-c37f-4f30-f59a-b3054dd75609"
   },
   "outputs": [
    {
     "data": {
      "text/plain": [
       "<matplotlib.collections.PathCollection at 0x7faa1500aad0>"
      ]
     },
     "execution_count": 52,
     "metadata": {
      "tags": []
     },
     "output_type": "execute_result"
    },
    {
     "data": {
      "image/png": "[encoded data removed]",
      "text/plain": [
       "<Figure size 1440x360 with 1 Axes>"
      ]
     },
     "metadata": {
      "tags": []
     },
     "output_type": "display_data"
    }
   ],
   "source": [
    "plt.figure(figsize=[20,5])\r\n",
    "\r\n",
    "plt.scatter(x=y_train,y=y_train_pred,alpha=0.03)\r\n",
    "plt.scatter(x=y_test,y=y_test_pred,alpha=0.5)\r\n"
   ]
  },
  {
   "cell_type": "markdown",
   "metadata": {
    "id": "uuBSoTNvttr2"
   },
   "source": [
    "Ridge\r\n",
    "- RMSE Train:  1.0564834046163012\r\n",
    "- RMSE Test:  1.0625286109202068\r\n",
    "\r\n",
    "XGB: \r\n",
    "- RMSE Train:  1.0058276747630053\r\n",
    "- RMSE Test:  1.073813399661005\r\n",
    "\r\n",
    "\r\n",
    "El modelo de Regresión Lineal funciona con muy buena performance entonces elegiriamos ese modelo"
   ]
  },
  {
   "cell_type": "markdown",
   "metadata": {
    "id": "WvjGGO4IfWMi"
   },
   "source": [
    "## Bonus Track\r\n",
    "\r\n",
    "Si divido en \"buenas\" y \"malas\" las criticas dependiendo de las estrellas:\r\n",
    "- 1 , 2 o 3 estrellas -- \"Mala\" o 0\r\n",
    "- 4 o 5 estrellas -- \"Buena\" o 1"
   ]
  },
  {
   "cell_type": "code",
   "execution_count": null,
   "metadata": {
    "id": "q7EzOwJ9hS18"
   },
   "outputs": [],
   "source": [
    "import pandas as pd\r\n",
    "import numpy as np\r\n",
    "import seaborn as sns\r\n",
    "sns.set(rc={'figure.figsize':(11.7,8.27)})\r\n",
    "import matplotlib.pyplot as plt\r\n",
    "import gc #garbage collector\r\n",
    "\r\n",
    "from tqdm import tqdm\r\n",
    "import nltk"
   ]
  },
  {
   "cell_type": "markdown",
   "metadata": {
    "id": "RkZOyziLhS18"
   },
   "source": [
    "dataframe solo con columnas: stars, body lemm, title lemm y categories, todo con formato str\r\n"
   ]
  },
  {
   "cell_type": "code",
   "execution_count": null,
   "metadata": {
    "colab": {
     "base_uri": "https://localhost:8080/"
    },
    "executionInfo": {
     "elapsed": 65524,
     "status": "ok",
     "timestamp": 1614715184619,
     "user": {
      "displayName": "manuel sosa",
      "photoUrl": "",
      "userId": "09405592236662278964"
     },
     "user_tz": 180
    },
    "id": "VQcy4CpNhS19",
    "outputId": "e20e97cb-0e0f-40db-859f-97671a33008f"
   },
   "outputs": [
    {
     "name": "stdout",
     "output_type": "stream",
     "text": [
      "Mounted at /content/drive\n"
     ]
    }
   ],
   "source": [
    "from google.colab import drive\r\n",
    "drive.mount('/content/drive')"
   ]
  },
  {
   "cell_type": "code",
   "execution_count": null,
   "metadata": {
    "colab": {
     "base_uri": "https://localhost:8080/",
     "height": 415
    },
    "executionInfo": {
     "elapsed": 968,
     "status": "ok",
     "timestamp": 1614717445131,
     "user": {
      "displayName": "manuel sosa",
      "photoUrl": "",
      "userId": "09405592236662278964"
     },
     "user_tz": 180
    },
    "id": "fFvKifPwhS1-",
    "outputId": "480c0856-59a8-47b8-96b4-9ecb7884ef8d"
   },
   "outputs": [
    {
     "data": {
      "text/html": [
       "<div>\n",
       "<style scoped>\n",
       "    .dataframe tbody tr th:only-of-type {\n",
       "        vertical-align: middle;\n",
       "    }\n",
       "\n",
       "    .dataframe tbody tr th {\n",
       "        vertical-align: top;\n",
       "    }\n",
       "\n",
       "    .dataframe thead th {\n",
       "        text-align: right;\n",
       "    }\n",
       "</style>\n",
       "<table border=\"1\" class=\"dataframe\">\n",
       "  <thead>\n",
       "    <tr style=\"text-align: right;\">\n",
       "      <th></th>\n",
       "      <th>stars</th>\n",
       "      <th>review_body_lemm</th>\n",
       "      <th>review_title_lemm</th>\n",
       "      <th>product_category</th>\n",
       "    </tr>\n",
       "  </thead>\n",
       "  <tbody>\n",
       "    <tr>\n",
       "      <th>0</th>\n",
       "      <td>1</td>\n",
       "      <td>malisimo grande aparatoso protector pantalla</td>\n",
       "      <td>malo compra</td>\n",
       "      <td>wireless</td>\n",
       "    </tr>\n",
       "    <tr>\n",
       "      <th>1</th>\n",
       "      <td>1</td>\n",
       "      <td>recibido pedido devolución</td>\n",
       "      <td>recibido</td>\n",
       "      <td>apparel</td>\n",
       "    </tr>\n",
       "    <tr>\n",
       "      <th>2</th>\n",
       "      <td>1</td>\n",
       "      <td>buscar sistema funcionar abrazadera agarrar ma...</td>\n",
       "      <td>aprieta manillar</td>\n",
       "      <td>sports</td>\n",
       "    </tr>\n",
       "    <tr>\n",
       "      <th>3</th>\n",
       "      <td>1</td>\n",
       "      <td>utilicé broca menor diámetro doblar ser manteq...</td>\n",
       "      <td>broca mantequillar</td>\n",
       "      <td>home_improvement</td>\n",
       "    </tr>\n",
       "    <tr>\n",
       "      <th>4</th>\n",
       "      <td>1</td>\n",
       "      <td>gustar olor viejo aspecto malo</td>\n",
       "      <td>gustar</td>\n",
       "      <td>beauty</td>\n",
       "    </tr>\n",
       "    <tr>\n",
       "      <th>...</th>\n",
       "      <td>...</td>\n",
       "      <td>...</td>\n",
       "      <td>...</td>\n",
       "      <td>...</td>\n",
       "    </tr>\n",
       "    <tr>\n",
       "      <th>209995</th>\n",
       "      <td>5</td>\n",
       "      <td>costar perfecto cumplir función sobrar peque c...</td>\n",
       "      <td>perfecto servir</td>\n",
       "      <td>wireless</td>\n",
       "    </tr>\n",
       "    <tr>\n",
       "      <th>209996</th>\n",
       "      <td>5</td>\n",
       "      <td>material flexible cómodo acorde descripción</td>\n",
       "      <td>vendedor rápido fiable</td>\n",
       "      <td>wireless</td>\n",
       "    </tr>\n",
       "    <tr>\n",
       "      <th>209997</th>\n",
       "      <td>5</td>\n",
       "      <td>grabado</td>\n",
       "      <td>medalla bonito grabado</td>\n",
       "      <td>home</td>\n",
       "    </tr>\n",
       "    <tr>\n",
       "      <th>209998</th>\n",
       "      <td>5</td>\n",
       "      <td>comprar bici finalmente quedado xiaomi scooter...</td>\n",
       "      <td>timbre</td>\n",
       "      <td>sports</td>\n",
       "    </tr>\n",
       "    <tr>\n",
       "      <th>209999</th>\n",
       "      <td>5</td>\n",
       "      <td>tipo casco inalambrico atado goma tipico perde...</td>\n",
       "      <td>auricular cabl</td>\n",
       "      <td>electronics</td>\n",
       "    </tr>\n",
       "  </tbody>\n",
       "</table>\n",
       "<p>210000 rows × 4 columns</p>\n",
       "</div>"
      ],
      "text/plain": [
       "        stars  ...  product_category\n",
       "0           1  ...          wireless\n",
       "1           1  ...           apparel\n",
       "2           1  ...            sports\n",
       "3           1  ...  home_improvement\n",
       "4           1  ...            beauty\n",
       "...       ...  ...               ...\n",
       "209995      5  ...          wireless\n",
       "209996      5  ...          wireless\n",
       "209997      5  ...              home\n",
       "209998      5  ...            sports\n",
       "209999      5  ...       electronics\n",
       "\n",
       "[210000 rows x 4 columns]"
      ]
     },
     "execution_count": 27,
     "metadata": {
      "tags": []
     },
     "output_type": "execute_result"
    }
   ],
   "source": [
    "df_model=pd.read_pickle(\"/content/drive/MyDrive/Colab Notebooks/proyecto 03/datos procesados final4.pkl\")\r\n",
    "df_model"
   ]
  },
  {
   "cell_type": "code",
   "execution_count": null,
   "metadata": {
    "id": "m33Uv6vxhVol"
   },
   "outputs": [],
   "source": [
    "df_model[\"clasif\"]=df_model.stars.map({1:0.0,2:0.0,3:0.0,4:1.0,5:1.0})"
   ]
  },
  {
   "cell_type": "code",
   "execution_count": null,
   "metadata": {
    "colab": {
     "base_uri": "https://localhost:8080/",
     "height": 415
    },
    "executionInfo": {
     "elapsed": 672,
     "status": "ok",
     "timestamp": 1614717476907,
     "user": {
      "displayName": "manuel sosa",
      "photoUrl": "",
      "userId": "09405592236662278964"
     },
     "user_tz": 180
    },
    "id": "NnbRuyhQjCr6",
    "outputId": "d401b759-da7a-449a-b278-5cf05afcbb51"
   },
   "outputs": [
    {
     "data": {
      "text/html": [
       "<div>\n",
       "<style scoped>\n",
       "    .dataframe tbody tr th:only-of-type {\n",
       "        vertical-align: middle;\n",
       "    }\n",
       "\n",
       "    .dataframe tbody tr th {\n",
       "        vertical-align: top;\n",
       "    }\n",
       "\n",
       "    .dataframe thead th {\n",
       "        text-align: right;\n",
       "    }\n",
       "</style>\n",
       "<table border=\"1\" class=\"dataframe\">\n",
       "  <thead>\n",
       "    <tr style=\"text-align: right;\">\n",
       "      <th></th>\n",
       "      <th>stars</th>\n",
       "      <th>review_body_lemm</th>\n",
       "      <th>review_title_lemm</th>\n",
       "      <th>product_category</th>\n",
       "      <th>clasif</th>\n",
       "    </tr>\n",
       "  </thead>\n",
       "  <tbody>\n",
       "    <tr>\n",
       "      <th>0</th>\n",
       "      <td>1</td>\n",
       "      <td>malisimo grande aparatoso protector pantalla</td>\n",
       "      <td>malo compra</td>\n",
       "      <td>wireless</td>\n",
       "      <td>0.0</td>\n",
       "    </tr>\n",
       "    <tr>\n",
       "      <th>1</th>\n",
       "      <td>1</td>\n",
       "      <td>recibido pedido devolución</td>\n",
       "      <td>recibido</td>\n",
       "      <td>apparel</td>\n",
       "      <td>0.0</td>\n",
       "    </tr>\n",
       "    <tr>\n",
       "      <th>2</th>\n",
       "      <td>1</td>\n",
       "      <td>buscar sistema funcionar abrazadera agarrar ma...</td>\n",
       "      <td>aprieta manillar</td>\n",
       "      <td>sports</td>\n",
       "      <td>0.0</td>\n",
       "    </tr>\n",
       "    <tr>\n",
       "      <th>3</th>\n",
       "      <td>1</td>\n",
       "      <td>utilicé broca menor diámetro doblar ser manteq...</td>\n",
       "      <td>broca mantequillar</td>\n",
       "      <td>home_improvement</td>\n",
       "      <td>0.0</td>\n",
       "    </tr>\n",
       "    <tr>\n",
       "      <th>4</th>\n",
       "      <td>1</td>\n",
       "      <td>gustar olor viejo aspecto malo</td>\n",
       "      <td>gustar</td>\n",
       "      <td>beauty</td>\n",
       "      <td>0.0</td>\n",
       "    </tr>\n",
       "    <tr>\n",
       "      <th>...</th>\n",
       "      <td>...</td>\n",
       "      <td>...</td>\n",
       "      <td>...</td>\n",
       "      <td>...</td>\n",
       "      <td>...</td>\n",
       "    </tr>\n",
       "    <tr>\n",
       "      <th>209995</th>\n",
       "      <td>5</td>\n",
       "      <td>costar perfecto cumplir función sobrar peque c...</td>\n",
       "      <td>perfecto servir</td>\n",
       "      <td>wireless</td>\n",
       "      <td>1.0</td>\n",
       "    </tr>\n",
       "    <tr>\n",
       "      <th>209996</th>\n",
       "      <td>5</td>\n",
       "      <td>material flexible cómodo acorde descripción</td>\n",
       "      <td>vendedor rápido fiable</td>\n",
       "      <td>wireless</td>\n",
       "      <td>1.0</td>\n",
       "    </tr>\n",
       "    <tr>\n",
       "      <th>209997</th>\n",
       "      <td>5</td>\n",
       "      <td>grabado</td>\n",
       "      <td>medalla bonito grabado</td>\n",
       "      <td>home</td>\n",
       "      <td>1.0</td>\n",
       "    </tr>\n",
       "    <tr>\n",
       "      <th>209998</th>\n",
       "      <td>5</td>\n",
       "      <td>comprar bici finalmente quedado xiaomi scooter...</td>\n",
       "      <td>timbre</td>\n",
       "      <td>sports</td>\n",
       "      <td>1.0</td>\n",
       "    </tr>\n",
       "    <tr>\n",
       "      <th>209999</th>\n",
       "      <td>5</td>\n",
       "      <td>tipo casco inalambrico atado goma tipico perde...</td>\n",
       "      <td>auricular cabl</td>\n",
       "      <td>electronics</td>\n",
       "      <td>1.0</td>\n",
       "    </tr>\n",
       "  </tbody>\n",
       "</table>\n",
       "<p>210000 rows × 5 columns</p>\n",
       "</div>"
      ],
      "text/plain": [
       "        stars  ... clasif\n",
       "0           1  ...    0.0\n",
       "1           1  ...    0.0\n",
       "2           1  ...    0.0\n",
       "3           1  ...    0.0\n",
       "4           1  ...    0.0\n",
       "...       ...  ...    ...\n",
       "209995      5  ...    1.0\n",
       "209996      5  ...    1.0\n",
       "209997      5  ...    1.0\n",
       "209998      5  ...    1.0\n",
       "209999      5  ...    1.0\n",
       "\n",
       "[210000 rows x 5 columns]"
      ]
     },
     "execution_count": 30,
     "metadata": {
      "tags": []
     },
     "output_type": "execute_result"
    }
   ],
   "source": [
    "df_model"
   ]
  },
  {
   "cell_type": "code",
   "execution_count": null,
   "metadata": {
    "colab": {
     "base_uri": "https://localhost:8080/"
    },
    "executionInfo": {
     "elapsed": 672,
     "status": "ok",
     "timestamp": 1614717491510,
     "user": {
      "displayName": "manuel sosa",
      "photoUrl": "",
      "userId": "09405592236662278964"
     },
     "user_tz": 180
    },
    "id": "93IM70H8j0tY",
    "outputId": "7f1ae189-58df-4727-b6bc-d5326e9c752a"
   },
   "outputs": [
    {
     "data": {
      "text/plain": [
       "array([0., 0., 0., ..., 1., 1., 1.])"
      ]
     },
     "execution_count": 31,
     "metadata": {
      "tags": []
     },
     "output_type": "execute_result"
    }
   ],
   "source": [
    "df_model.review_body_lemm.values\r\n",
    "df_model.clasif.values"
   ]
  },
  {
   "cell_type": "markdown",
   "metadata": {
    "id": "cil6R-KYj0tZ"
   },
   "source": [
    "### Tunning del modelo"
   ]
  },
  {
   "cell_type": "code",
   "execution_count": null,
   "metadata": {
    "id": "Bc2PulmYj0tZ"
   },
   "outputs": [],
   "source": [
    "from sklearn.model_selection import train_test_split\r\n",
    "X_train, X_test, y_train, y_test = train_test_split(\r\n",
    "    df_model.review_body_lemm.values, df_model.clasif.values, test_size = 0.20, stratify=df_model.clasif.values, random_state = 12)"
   ]
  },
  {
   "cell_type": "markdown",
   "metadata": {
    "id": "w2D2IzAwj0ta"
   },
   "source": [
    "Creamos Pipeline"
   ]
  },
  {
   "cell_type": "code",
   "execution_count": null,
   "metadata": {
    "id": "FnpDcQWCj0ta"
   },
   "outputs": [],
   "source": [
    "from sklearn.feature_extraction.text import CountVectorizer,TfidfTransformer\r\n",
    "from sklearn.decomposition import PCA \r\n",
    "from sklearn.svm import LinearSVC\r\n",
    "\r\n",
    "vect = CountVectorizer()\r\n",
    "tfidf = TfidfTransformer()\r\n",
    "\r\n",
    "clf = LinearSVC(dual=False)\r\n"
   ]
  },
  {
   "cell_type": "code",
   "execution_count": null,
   "metadata": {
    "id": "Z2Wt6FuVj0ta"
   },
   "outputs": [],
   "source": [
    "from sklearn.pipeline import Pipeline\r\n",
    "from sklearn.pipeline import make_pipeline\r\n",
    "\r\n",
    "pipeline = Pipeline([('vect',vect),('tfidf',tfidf),('clf',clf)])"
   ]
  },
  {
   "cell_type": "code",
   "execution_count": null,
   "metadata": {
    "colab": {
     "base_uri": "https://localhost:8080/"
    },
    "executionInfo": {
     "elapsed": 456,
     "status": "ok",
     "timestamp": 1614717498970,
     "user": {
      "displayName": "manuel sosa",
      "photoUrl": "",
      "userId": "09405592236662278964"
     },
     "user_tz": 180
    },
    "id": "qTn1oxPKkd0F",
    "outputId": "7de158de-821b-43d5-fd3e-301e0fd5a9e2"
   },
   "outputs": [
    {
     "data": {
      "text/plain": [
       "dict_keys(['memory', 'steps', 'verbose', 'vect', 'tfidf', 'clf', 'vect__analyzer', 'vect__binary', 'vect__decode_error', 'vect__dtype', 'vect__encoding', 'vect__input', 'vect__lowercase', 'vect__max_df', 'vect__max_features', 'vect__min_df', 'vect__ngram_range', 'vect__preprocessor', 'vect__stop_words', 'vect__strip_accents', 'vect__token_pattern', 'vect__tokenizer', 'vect__vocabulary', 'tfidf__norm', 'tfidf__smooth_idf', 'tfidf__sublinear_tf', 'tfidf__use_idf', 'clf__C', 'clf__class_weight', 'clf__dual', 'clf__fit_intercept', 'clf__intercept_scaling', 'clf__loss', 'clf__max_iter', 'clf__multi_class', 'clf__penalty', 'clf__random_state', 'clf__tol', 'clf__verbose'])"
      ]
     },
     "execution_count": 35,
     "metadata": {
      "tags": []
     },
     "output_type": "execute_result"
    }
   ],
   "source": [
    "pipeline.get_params().keys()"
   ]
  },
  {
   "cell_type": "code",
   "execution_count": null,
   "metadata": {
    "id": "MW54XPcGkswf"
   },
   "outputs": [],
   "source": [
    "param_grid={\"vect__max_features\":[750,1000,1500],'vect__ngram_range':[(1,1),(1,2)],\r\n",
    "            'clf__C':[0.25,0.5,0.75,1,1.25,1.5,2,3,4],\r\n",
    "            'clf__loss':[\"hinge\", \"squared_hinge\"]\r\n",
    "            }"
   ]
  },
  {
   "cell_type": "code",
   "execution_count": null,
   "metadata": {
    "colab": {
     "base_uri": "https://localhost:8080/"
    },
    "executionInfo": {
     "elapsed": 362259,
     "status": "ok",
     "timestamp": 1614718385672,
     "user": {
      "displayName": "manuel sosa",
      "photoUrl": "",
      "userId": "09405592236662278964"
     },
     "user_tz": 180
    },
    "id": "_rVj3JC3kswh",
    "outputId": "ec2d9935-dd4f-498a-836a-3a19ba6ab96c"
   },
   "outputs": [
    {
     "name": "stdout",
     "output_type": "stream",
     "text": [
      "Fitting 4 folds for each of 20 candidates, totalling 80 fits\n"
     ]
    },
    {
     "name": "stderr",
     "output_type": "stream",
     "text": [
      "[Parallel(n_jobs=-1)]: Using backend LokyBackend with 2 concurrent workers.\n",
      "[Parallel(n_jobs=-1)]: Done   1 tasks      | elapsed:   14.9s\n",
      "[Parallel(n_jobs=-1)]: Done   4 tasks      | elapsed:   29.6s\n",
      "[Parallel(n_jobs=-1)]: Done   9 tasks      | elapsed:   54.2s\n",
      "[Parallel(n_jobs=-1)]: Done  14 tasks      | elapsed:  1.3min\n",
      "[Parallel(n_jobs=-1)]: Done  21 tasks      | elapsed:  2.1min\n",
      "[Parallel(n_jobs=-1)]: Done  28 tasks      | elapsed:  2.7min\n",
      "[Parallel(n_jobs=-1)]: Done  37 tasks      | elapsed:  3.6min\n",
      "[Parallel(n_jobs=-1)]: Done  46 tasks      | elapsed:  4.1min\n",
      "[Parallel(n_jobs=-1)]: Done  57 tasks      | elapsed:  4.6min\n",
      "[Parallel(n_jobs=-1)]: Done  68 tasks      | elapsed:  5.2min\n",
      "[Parallel(n_jobs=-1)]: Done  80 out of  80 | elapsed:  5.8min finished\n"
     ]
    },
    {
     "data": {
      "text/plain": [
       "RandomizedSearchCV(cv=4, error_score=nan,\n",
       "                   estimator=Pipeline(memory=None,\n",
       "                                      steps=[('vect',\n",
       "                                              CountVectorizer(analyzer='word',\n",
       "                                                              binary=False,\n",
       "                                                              decode_error='strict',\n",
       "                                                              dtype=<class 'numpy.int64'>,\n",
       "                                                              encoding='utf-8',\n",
       "                                                              input='content',\n",
       "                                                              lowercase=True,\n",
       "                                                              max_df=1.0,\n",
       "                                                              max_features=None,\n",
       "                                                              min_df=1,\n",
       "                                                              ngram_range=(1,\n",
       "                                                                           1),\n",
       "                                                              preprocessor=None,\n",
       "                                                              stop_words=None,\n",
       "                                                              strip_accents=None,\n",
       "                                                              token_pattern...\n",
       "                                                        tol=0.0001,\n",
       "                                                        verbose=0))],\n",
       "                                      verbose=False),\n",
       "                   iid='deprecated', n_iter=20, n_jobs=-1,\n",
       "                   param_distributions={'clf__C': [0.25, 0.5, 0.75, 1, 1.25,\n",
       "                                                   1.5, 2, 3, 4],\n",
       "                                        'clf__loss': ['hinge', 'squared_hinge'],\n",
       "                                        'vect__max_features': [750, 1000, 1500],\n",
       "                                        'vect__ngram_range': [(1, 1), (1, 2)]},\n",
       "                   pre_dispatch='2*n_jobs', random_state=None, refit=True,\n",
       "                   return_train_score=False, scoring=None, verbose=10)"
      ]
     },
     "execution_count": 40,
     "metadata": {
      "tags": []
     },
     "output_type": "execute_result"
    }
   ],
   "source": [
    "from sklearn.model_selection import RandomizedSearchCV\r\n",
    "search = RandomizedSearchCV(pipeline, param_distributions=param_grid,cv=4,n_iter=20,n_jobs=-1,verbose=10)\r\n",
    "search.fit(X_train, y_train)"
   ]
  },
  {
   "cell_type": "code",
   "execution_count": null,
   "metadata": {
    "colab": {
     "base_uri": "https://localhost:8080/",
     "height": 1000
    },
    "executionInfo": {
     "elapsed": 351397,
     "status": "ok",
     "timestamp": 1614718385675,
     "user": {
      "displayName": "manuel sosa",
      "photoUrl": "",
      "userId": "09405592236662278964"
     },
     "user_tz": 180
    },
    "id": "NlFBAVUfsVIO",
    "outputId": "361ea668-fffb-446a-9146-b9b724bf3f84"
   },
   "outputs": [
    {
     "name": "stdout",
     "output_type": "stream",
     "text": [
      "Pipeline(memory=None,\n",
      "         steps=[('vect',\n",
      "                 CountVectorizer(analyzer='word', binary=False,\n",
      "                                 decode_error='strict',\n",
      "                                 dtype=<class 'numpy.int64'>, encoding='utf-8',\n",
      "                                 input='content', lowercase=True, max_df=1.0,\n",
      "                                 max_features=1500, min_df=1,\n",
      "                                 ngram_range=(1, 2), preprocessor=None,\n",
      "                                 stop_words=None, strip_accents=None,\n",
      "                                 token_pattern='(?u)\\\\b\\\\w\\\\w+\\\\b',\n",
      "                                 tokenizer=None, vocabulary=None)),\n",
      "                ('tfidf',\n",
      "                 TfidfTransformer(norm='l2', smooth_idf=True,\n",
      "                                  sublinear_tf=False, use_idf=True)),\n",
      "                ('clf',\n",
      "                 LinearSVC(C=0.75, class_weight=None, dual=False,\n",
      "                           fit_intercept=True, intercept_scaling=1,\n",
      "                           loss='squared_hinge', max_iter=1000,\n",
      "                           multi_class='ovr', penalty='l2', random_state=None,\n",
      "                           tol=0.0001, verbose=0))],\n",
      "         verbose=False)\n",
      "Mejor Score:   0.7923095238095238\n"
     ]
    },
    {
     "data": {
      "text/html": [
       "<div>\n",
       "<style scoped>\n",
       "    .dataframe tbody tr th:only-of-type {\n",
       "        vertical-align: middle;\n",
       "    }\n",
       "\n",
       "    .dataframe tbody tr th {\n",
       "        vertical-align: top;\n",
       "    }\n",
       "\n",
       "    .dataframe thead th {\n",
       "        text-align: right;\n",
       "    }\n",
       "</style>\n",
       "<table border=\"1\" class=\"dataframe\">\n",
       "  <thead>\n",
       "    <tr style=\"text-align: right;\">\n",
       "      <th></th>\n",
       "      <th>mean_fit_time</th>\n",
       "      <th>std_fit_time</th>\n",
       "      <th>mean_score_time</th>\n",
       "      <th>std_score_time</th>\n",
       "      <th>param_vect__ngram_range</th>\n",
       "      <th>param_vect__max_features</th>\n",
       "      <th>param_clf__loss</th>\n",
       "      <th>param_clf__C</th>\n",
       "      <th>params</th>\n",
       "      <th>split0_test_score</th>\n",
       "      <th>split1_test_score</th>\n",
       "      <th>split2_test_score</th>\n",
       "      <th>split3_test_score</th>\n",
       "      <th>mean_test_score</th>\n",
       "      <th>std_test_score</th>\n",
       "      <th>rank_test_score</th>\n",
       "    </tr>\n",
       "  </thead>\n",
       "  <tbody>\n",
       "    <tr>\n",
       "      <th>0</th>\n",
       "      <td>12.801810</td>\n",
       "      <td>0.115417</td>\n",
       "      <td>1.638651</td>\n",
       "      <td>0.012372</td>\n",
       "      <td>(1, 2)</td>\n",
       "      <td>1500</td>\n",
       "      <td>squared_hinge</td>\n",
       "      <td>2</td>\n",
       "      <td>{'vect__ngram_range': (1, 2), 'vect__max_featu...</td>\n",
       "      <td>0.794833</td>\n",
       "      <td>0.790357</td>\n",
       "      <td>0.793619</td>\n",
       "      <td>0.790095</td>\n",
       "      <td>0.792226</td>\n",
       "      <td>0.002048</td>\n",
       "      <td>2</td>\n",
       "    </tr>\n",
       "    <tr>\n",
       "      <th>1</th>\n",
       "      <td>4.221520</td>\n",
       "      <td>0.067779</td>\n",
       "      <td>0.927730</td>\n",
       "      <td>0.021656</td>\n",
       "      <td>(1, 1)</td>\n",
       "      <td>1500</td>\n",
       "      <td>squared_hinge</td>\n",
       "      <td>1</td>\n",
       "      <td>{'vect__ngram_range': (1, 1), 'vect__max_featu...</td>\n",
       "      <td>0.793786</td>\n",
       "      <td>0.789690</td>\n",
       "      <td>0.793595</td>\n",
       "      <td>0.789048</td>\n",
       "      <td>0.791530</td>\n",
       "      <td>0.002174</td>\n",
       "      <td>5</td>\n",
       "    </tr>\n",
       "    <tr>\n",
       "      <th>2</th>\n",
       "      <td>12.054597</td>\n",
       "      <td>0.068518</td>\n",
       "      <td>1.577148</td>\n",
       "      <td>0.005655</td>\n",
       "      <td>(1, 2)</td>\n",
       "      <td>750</td>\n",
       "      <td>squared_hinge</td>\n",
       "      <td>0.25</td>\n",
       "      <td>{'vect__ngram_range': (1, 2), 'vect__max_featu...</td>\n",
       "      <td>0.783048</td>\n",
       "      <td>0.780619</td>\n",
       "      <td>0.784286</td>\n",
       "      <td>0.779571</td>\n",
       "      <td>0.781881</td>\n",
       "      <td>0.001876</td>\n",
       "      <td>12</td>\n",
       "    </tr>\n",
       "    <tr>\n",
       "      <th>3</th>\n",
       "      <td>10.995797</td>\n",
       "      <td>0.078951</td>\n",
       "      <td>0.000000</td>\n",
       "      <td>0.000000</td>\n",
       "      <td>(1, 2)</td>\n",
       "      <td>1500</td>\n",
       "      <td>hinge</td>\n",
       "      <td>1</td>\n",
       "      <td>{'vect__ngram_range': (1, 2), 'vect__max_featu...</td>\n",
       "      <td>NaN</td>\n",
       "      <td>NaN</td>\n",
       "      <td>NaN</td>\n",
       "      <td>NaN</td>\n",
       "      <td>NaN</td>\n",
       "      <td>NaN</td>\n",
       "      <td>16</td>\n",
       "    </tr>\n",
       "    <tr>\n",
       "      <th>4</th>\n",
       "      <td>10.974202</td>\n",
       "      <td>0.068045</td>\n",
       "      <td>0.000000</td>\n",
       "      <td>0.000000</td>\n",
       "      <td>(1, 2)</td>\n",
       "      <td>1000</td>\n",
       "      <td>hinge</td>\n",
       "      <td>1.25</td>\n",
       "      <td>{'vect__ngram_range': (1, 2), 'vect__max_featu...</td>\n",
       "      <td>NaN</td>\n",
       "      <td>NaN</td>\n",
       "      <td>NaN</td>\n",
       "      <td>NaN</td>\n",
       "      <td>NaN</td>\n",
       "      <td>NaN</td>\n",
       "      <td>15</td>\n",
       "    </tr>\n",
       "    <tr>\n",
       "      <th>5</th>\n",
       "      <td>11.113681</td>\n",
       "      <td>0.067959</td>\n",
       "      <td>0.000000</td>\n",
       "      <td>0.000000</td>\n",
       "      <td>(1, 2)</td>\n",
       "      <td>1500</td>\n",
       "      <td>hinge</td>\n",
       "      <td>1.5</td>\n",
       "      <td>{'vect__ngram_range': (1, 2), 'vect__max_featu...</td>\n",
       "      <td>NaN</td>\n",
       "      <td>NaN</td>\n",
       "      <td>NaN</td>\n",
       "      <td>NaN</td>\n",
       "      <td>NaN</td>\n",
       "      <td>NaN</td>\n",
       "      <td>14</td>\n",
       "    </tr>\n",
       "    <tr>\n",
       "      <th>6</th>\n",
       "      <td>12.075133</td>\n",
       "      <td>0.090765</td>\n",
       "      <td>1.630180</td>\n",
       "      <td>0.041817</td>\n",
       "      <td>(1, 2)</td>\n",
       "      <td>1000</td>\n",
       "      <td>squared_hinge</td>\n",
       "      <td>0.75</td>\n",
       "      <td>{'vect__ngram_range': (1, 2), 'vect__max_featu...</td>\n",
       "      <td>0.788762</td>\n",
       "      <td>0.783714</td>\n",
       "      <td>0.789024</td>\n",
       "      <td>0.783381</td>\n",
       "      <td>0.786220</td>\n",
       "      <td>0.002677</td>\n",
       "      <td>9</td>\n",
       "    </tr>\n",
       "    <tr>\n",
       "      <th>7</th>\n",
       "      <td>11.952460</td>\n",
       "      <td>0.143804</td>\n",
       "      <td>1.614306</td>\n",
       "      <td>0.038432</td>\n",
       "      <td>(1, 2)</td>\n",
       "      <td>750</td>\n",
       "      <td>squared_hinge</td>\n",
       "      <td>1.25</td>\n",
       "      <td>{'vect__ngram_range': (1, 2), 'vect__max_featu...</td>\n",
       "      <td>0.782857</td>\n",
       "      <td>0.780690</td>\n",
       "      <td>0.784095</td>\n",
       "      <td>0.779452</td>\n",
       "      <td>0.781774</td>\n",
       "      <td>0.001811</td>\n",
       "      <td>13</td>\n",
       "    </tr>\n",
       "    <tr>\n",
       "      <th>8</th>\n",
       "      <td>3.695104</td>\n",
       "      <td>0.027268</td>\n",
       "      <td>0.884426</td>\n",
       "      <td>0.007697</td>\n",
       "      <td>(1, 1)</td>\n",
       "      <td>750</td>\n",
       "      <td>squared_hinge</td>\n",
       "      <td>0.5</td>\n",
       "      <td>{'vect__ngram_range': (1, 1), 'vect__max_featu...</td>\n",
       "      <td>0.783976</td>\n",
       "      <td>0.780976</td>\n",
       "      <td>0.785690</td>\n",
       "      <td>0.780143</td>\n",
       "      <td>0.782696</td>\n",
       "      <td>0.002241</td>\n",
       "      <td>10</td>\n",
       "    </tr>\n",
       "    <tr>\n",
       "      <th>9</th>\n",
       "      <td>12.410151</td>\n",
       "      <td>0.161044</td>\n",
       "      <td>1.606381</td>\n",
       "      <td>0.003133</td>\n",
       "      <td>(1, 2)</td>\n",
       "      <td>1500</td>\n",
       "      <td>squared_hinge</td>\n",
       "      <td>0.75</td>\n",
       "      <td>{'vect__ngram_range': (1, 2), 'vect__max_featu...</td>\n",
       "      <td>0.794667</td>\n",
       "      <td>0.790738</td>\n",
       "      <td>0.793595</td>\n",
       "      <td>0.790238</td>\n",
       "      <td>0.792310</td>\n",
       "      <td>0.001869</td>\n",
       "      <td>1</td>\n",
       "    </tr>\n",
       "    <tr>\n",
       "      <th>10</th>\n",
       "      <td>4.016049</td>\n",
       "      <td>0.183422</td>\n",
       "      <td>0.937593</td>\n",
       "      <td>0.045780</td>\n",
       "      <td>(1, 1)</td>\n",
       "      <td>1000</td>\n",
       "      <td>squared_hinge</td>\n",
       "      <td>3</td>\n",
       "      <td>{'vect__ngram_range': (1, 1), 'vect__max_featu...</td>\n",
       "      <td>0.788810</td>\n",
       "      <td>0.784310</td>\n",
       "      <td>0.789310</td>\n",
       "      <td>0.784095</td>\n",
       "      <td>0.786631</td>\n",
       "      <td>0.002436</td>\n",
       "      <td>8</td>\n",
       "    </tr>\n",
       "    <tr>\n",
       "      <th>11</th>\n",
       "      <td>3.888430</td>\n",
       "      <td>0.073983</td>\n",
       "      <td>0.933609</td>\n",
       "      <td>0.031796</td>\n",
       "      <td>(1, 1)</td>\n",
       "      <td>1000</td>\n",
       "      <td>squared_hinge</td>\n",
       "      <td>0.75</td>\n",
       "      <td>{'vect__ngram_range': (1, 1), 'vect__max_featu...</td>\n",
       "      <td>0.788881</td>\n",
       "      <td>0.784381</td>\n",
       "      <td>0.789476</td>\n",
       "      <td>0.784095</td>\n",
       "      <td>0.786708</td>\n",
       "      <td>0.002481</td>\n",
       "      <td>6</td>\n",
       "    </tr>\n",
       "    <tr>\n",
       "      <th>12</th>\n",
       "      <td>3.840768</td>\n",
       "      <td>0.053913</td>\n",
       "      <td>0.921565</td>\n",
       "      <td>0.010982</td>\n",
       "      <td>(1, 1)</td>\n",
       "      <td>1000</td>\n",
       "      <td>squared_hinge</td>\n",
       "      <td>1</td>\n",
       "      <td>{'vect__ngram_range': (1, 1), 'vect__max_featu...</td>\n",
       "      <td>0.788857</td>\n",
       "      <td>0.784381</td>\n",
       "      <td>0.789381</td>\n",
       "      <td>0.784119</td>\n",
       "      <td>0.786685</td>\n",
       "      <td>0.002443</td>\n",
       "      <td>7</td>\n",
       "    </tr>\n",
       "    <tr>\n",
       "      <th>13</th>\n",
       "      <td>4.200413</td>\n",
       "      <td>0.036451</td>\n",
       "      <td>0.919073</td>\n",
       "      <td>0.012241</td>\n",
       "      <td>(1, 1)</td>\n",
       "      <td>1500</td>\n",
       "      <td>squared_hinge</td>\n",
       "      <td>1.5</td>\n",
       "      <td>{'vect__ngram_range': (1, 1), 'vect__max_featu...</td>\n",
       "      <td>0.793786</td>\n",
       "      <td>0.789667</td>\n",
       "      <td>0.793690</td>\n",
       "      <td>0.789119</td>\n",
       "      <td>0.791565</td>\n",
       "      <td>0.002181</td>\n",
       "      <td>4</td>\n",
       "    </tr>\n",
       "    <tr>\n",
       "      <th>14</th>\n",
       "      <td>3.727742</td>\n",
       "      <td>0.036617</td>\n",
       "      <td>0.896687</td>\n",
       "      <td>0.026380</td>\n",
       "      <td>(1, 1)</td>\n",
       "      <td>750</td>\n",
       "      <td>squared_hinge</td>\n",
       "      <td>1.5</td>\n",
       "      <td>{'vect__ngram_range': (1, 1), 'vect__max_featu...</td>\n",
       "      <td>0.784000</td>\n",
       "      <td>0.780952</td>\n",
       "      <td>0.785786</td>\n",
       "      <td>0.779976</td>\n",
       "      <td>0.782679</td>\n",
       "      <td>0.002328</td>\n",
       "      <td>11</td>\n",
       "    </tr>\n",
       "    <tr>\n",
       "      <th>15</th>\n",
       "      <td>2.960935</td>\n",
       "      <td>0.051917</td>\n",
       "      <td>0.000000</td>\n",
       "      <td>0.000000</td>\n",
       "      <td>(1, 1)</td>\n",
       "      <td>1000</td>\n",
       "      <td>hinge</td>\n",
       "      <td>1.5</td>\n",
       "      <td>{'vect__ngram_range': (1, 1), 'vect__max_featu...</td>\n",
       "      <td>NaN</td>\n",
       "      <td>NaN</td>\n",
       "      <td>NaN</td>\n",
       "      <td>NaN</td>\n",
       "      <td>NaN</td>\n",
       "      <td>NaN</td>\n",
       "      <td>17</td>\n",
       "    </tr>\n",
       "    <tr>\n",
       "      <th>16</th>\n",
       "      <td>11.019567</td>\n",
       "      <td>0.047405</td>\n",
       "      <td>0.000000</td>\n",
       "      <td>0.000000</td>\n",
       "      <td>(1, 2)</td>\n",
       "      <td>750</td>\n",
       "      <td>hinge</td>\n",
       "      <td>0.25</td>\n",
       "      <td>{'vect__ngram_range': (1, 2), 'vect__max_featu...</td>\n",
       "      <td>NaN</td>\n",
       "      <td>NaN</td>\n",
       "      <td>NaN</td>\n",
       "      <td>NaN</td>\n",
       "      <td>NaN</td>\n",
       "      <td>NaN</td>\n",
       "      <td>18</td>\n",
       "    </tr>\n",
       "    <tr>\n",
       "      <th>17</th>\n",
       "      <td>2.952278</td>\n",
       "      <td>0.031263</td>\n",
       "      <td>0.000000</td>\n",
       "      <td>0.000000</td>\n",
       "      <td>(1, 1)</td>\n",
       "      <td>750</td>\n",
       "      <td>hinge</td>\n",
       "      <td>3</td>\n",
       "      <td>{'vect__ngram_range': (1, 1), 'vect__max_featu...</td>\n",
       "      <td>NaN</td>\n",
       "      <td>NaN</td>\n",
       "      <td>NaN</td>\n",
       "      <td>NaN</td>\n",
       "      <td>NaN</td>\n",
       "      <td>NaN</td>\n",
       "      <td>19</td>\n",
       "    </tr>\n",
       "    <tr>\n",
       "      <th>18</th>\n",
       "      <td>4.167048</td>\n",
       "      <td>0.043636</td>\n",
       "      <td>0.905208</td>\n",
       "      <td>0.012839</td>\n",
       "      <td>(1, 1)</td>\n",
       "      <td>1500</td>\n",
       "      <td>squared_hinge</td>\n",
       "      <td>0.75</td>\n",
       "      <td>{'vect__ngram_range': (1, 1), 'vect__max_featu...</td>\n",
       "      <td>0.793786</td>\n",
       "      <td>0.789833</td>\n",
       "      <td>0.793714</td>\n",
       "      <td>0.789167</td>\n",
       "      <td>0.791625</td>\n",
       "      <td>0.002138</td>\n",
       "      <td>3</td>\n",
       "    </tr>\n",
       "    <tr>\n",
       "      <th>19</th>\n",
       "      <td>11.084816</td>\n",
       "      <td>0.077109</td>\n",
       "      <td>0.000000</td>\n",
       "      <td>0.000000</td>\n",
       "      <td>(1, 2)</td>\n",
       "      <td>1500</td>\n",
       "      <td>hinge</td>\n",
       "      <td>4</td>\n",
       "      <td>{'vect__ngram_range': (1, 2), 'vect__max_featu...</td>\n",
       "      <td>NaN</td>\n",
       "      <td>NaN</td>\n",
       "      <td>NaN</td>\n",
       "      <td>NaN</td>\n",
       "      <td>NaN</td>\n",
       "      <td>NaN</td>\n",
       "      <td>20</td>\n",
       "    </tr>\n",
       "  </tbody>\n",
       "</table>\n",
       "</div>"
      ],
      "text/plain": [
       "    mean_fit_time  std_fit_time  ...  std_test_score  rank_test_score\n",
       "0       12.801810      0.115417  ...        0.002048                2\n",
       "1        4.221520      0.067779  ...        0.002174                5\n",
       "2       12.054597      0.068518  ...        0.001876               12\n",
       "3       10.995797      0.078951  ...             NaN               16\n",
       "4       10.974202      0.068045  ...             NaN               15\n",
       "5       11.113681      0.067959  ...             NaN               14\n",
       "6       12.075133      0.090765  ...        0.002677                9\n",
       "7       11.952460      0.143804  ...        0.001811               13\n",
       "8        3.695104      0.027268  ...        0.002241               10\n",
       "9       12.410151      0.161044  ...        0.001869                1\n",
       "10       4.016049      0.183422  ...        0.002436                8\n",
       "11       3.888430      0.073983  ...        0.002481                6\n",
       "12       3.840768      0.053913  ...        0.002443                7\n",
       "13       4.200413      0.036451  ...        0.002181                4\n",
       "14       3.727742      0.036617  ...        0.002328               11\n",
       "15       2.960935      0.051917  ...             NaN               17\n",
       "16      11.019567      0.047405  ...             NaN               18\n",
       "17       2.952278      0.031263  ...             NaN               19\n",
       "18       4.167048      0.043636  ...        0.002138                3\n",
       "19      11.084816      0.077109  ...             NaN               20\n",
       "\n",
       "[20 rows x 16 columns]"
      ]
     },
     "execution_count": 41,
     "metadata": {
      "tags": []
     },
     "output_type": "execute_result"
    }
   ],
   "source": [
    "print(search.best_estimator_)\r\n",
    "print(\"Mejor Score:  \",search.best_score_)\r\n",
    "pd.DataFrame(search.cv_results_)"
   ]
  },
  {
   "cell_type": "code",
   "execution_count": null,
   "metadata": {
    "colab": {
     "base_uri": "https://localhost:8080/"
    },
    "executionInfo": {
     "elapsed": 765,
     "status": "ok",
     "timestamp": 1614718586102,
     "user": {
      "displayName": "manuel sosa",
      "photoUrl": "",
      "userId": "09405592236662278964"
     },
     "user_tz": 180
    },
    "id": "z7rDACtzsVIZ",
    "outputId": "07739aef-51f5-48c9-ca00-87cd29bafc42"
   },
   "outputs": [
    {
     "data": {
      "text/plain": [
       "array([{'vect__ngram_range': (1, 2), 'vect__max_features': 1500, 'clf__loss': 'squared_hinge', 'clf__C': 0.75}],\n",
       "      dtype=object)"
      ]
     },
     "execution_count": 43,
     "metadata": {
      "tags": []
     },
     "output_type": "execute_result"
    }
   ],
   "source": [
    "d=pd.DataFrame(search.cv_results_)\r\n",
    "d.loc[d.rank_test_score == 1].params.values"
   ]
  },
  {
   "cell_type": "markdown",
   "metadata": {
    "id": "k_ASpf2tunyV"
   },
   "source": [
    "array([{'vect__ngram_range': (1, 2), 'vect__max_features': 1500, 'clf__loss': 'squared_hinge', 'clf__C': 0.75}],\r\n",
    "      dtype=object)"
   ]
  },
  {
   "cell_type": "code",
   "execution_count": null,
   "metadata": {
    "colab": {
     "base_uri": "https://localhost:8080/"
    },
    "executionInfo": {
     "elapsed": 5440,
     "status": "ok",
     "timestamp": 1614718632430,
     "user": {
      "displayName": "manuel sosa",
      "photoUrl": "",
      "userId": "09405592236662278964"
     },
     "user_tz": 180
    },
    "id": "W7Fa5IiIsjK2",
    "outputId": "341a669e-0742-49df-f70f-111c6c3daad5"
   },
   "outputs": [
    {
     "name": "stdout",
     "output_type": "stream",
     "text": [
      "Accuracy Train:  0.7979345238095238\n",
      "Accuracy Test:  0.7906428571428571\n"
     ]
    }
   ],
   "source": [
    "from sklearn.metrics import accuracy_score\r\n",
    "y_test_pred=search.predict(X_test)\r\n",
    "y_train_pred=search.predict(X_train)\r\n",
    "\r\n",
    "print(f\"Accuracy Train:  {accuracy_score(y_train,y_train_pred)}\")\r\n",
    "print(f\"Accuracy Test:  {accuracy_score(y_test,y_test_pred)}\")"
   ]
  },
  {
   "cell_type": "code",
   "execution_count": null,
   "metadata": {
    "colab": {
     "base_uri": "https://localhost:8080/",
     "height": 689
    },
    "executionInfo": {
     "elapsed": 3000,
     "status": "ok",
     "timestamp": 1614718641927,
     "user": {
      "displayName": "manuel sosa",
      "photoUrl": "",
      "userId": "09405592236662278964"
     },
     "user_tz": 180
    },
    "id": "5qXGnpCHsjK3",
    "outputId": "cb33ee24-915a-4aa2-e683-95fd1fb765e7"
   },
   "outputs": [
    {
     "name": "stdout",
     "output_type": "stream",
     "text": [
      "Confusion matrix, without normalization\n",
      "[[21769  3431]\n",
      " [ 5362 11438]]\n",
      "Normalized confusion matrix\n",
      "[[0.86384921 0.13615079]\n",
      " [0.31916667 0.68083333]]\n"
     ]
    },
    {
     "data": {
      "image/png": "[encoded data removed]",
      "text/plain": [
       "<Figure size 432x288 with 2 Axes>"
      ]
     },
     "metadata": {
      "needs_background": "light",
      "tags": []
     },
     "output_type": "display_data"
    },
    {
     "data": {
      "image/png": "[encoded data removed]",
      "text/plain": [
       "<Figure size 432x288 with 2 Axes>"
      ]
     },
     "metadata": {
      "needs_background": "light",
      "tags": []
     },
     "output_type": "display_data"
    }
   ],
   "source": [
    "from sklearn.metrics import plot_confusion_matrix\r\n",
    "# Plot non-normalized confusion matrix\r\n",
    "titles_options = [(\"Confusion matrix, without normalization\", None),\r\n",
    "                  (\"Normalized confusion matrix\", 'true')]\r\n",
    "for title, normalize in titles_options:\r\n",
    "    disp = plot_confusion_matrix(search, X_test, y_test,\r\n",
    "                                 cmap=plt.cm.Blues,\r\n",
    "                                 normalize=normalize)\r\n",
    "    disp.ax_.set_title(title)\r\n",
    "\r\n",
    "    print(title)\r\n",
    "    print(disp.confusion_matrix)\r\n",
    "\r\n",
    "plt.show()"
   ]
  },
  {
   "cell_type": "markdown",
   "metadata": {
    "id": "kKFfySyMvRLb"
   },
   "source": [
    "Podemos ver que el modelo suele tener más errores del tipo Falso Negativo o sea errores del tipo II.\r\n",
    "\r\n"
   ]
  }
 ],
 "metadata": {
  "colab": {
   "collapsed_sections": [],
   "name": "DS_Proyecto_03_NLP.ipynb",
   "provenance": []
  },
  "kernelspec": {
   "display_name": "Python 3",
   "language": "python",
   "name": "python3"
  },
  "language_info": {
   "codemirror_mode": {
    "name": "ipython",
    "version": 3
   },
   "file_extension": ".py",
   "mimetype": "text/x-python",
   "name": "python",
   "nbconvert_exporter": "python",
   "pygments_lexer": "ipython3",
   "version": "3.8.5"
  }
 },
 "nbformat": 4,
 "nbformat_minor": 4
}
